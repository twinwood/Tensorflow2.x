{
 "cells": [
  {
   "cell_type": "markdown",
   "metadata": {},
   "source": [
    "<a href=\"https://www.skills.network/\"><img src=\"https://cf-courses-data.s3.us.cloud-object-storage.appdomain.cloud/IBM-DL0120ENedX/labs/Template%20for%20Instructional%20Hands-on%20Labs/images/IDSNlogo.png\" width=\"400px\" align=\"center\"></a>\n",
    "\n",
    "<h1 align=\"center\"><font size=\"5\">RECURRENT NETWORKS and LSTM IN DEEP LEARNING</font></h1>\n"
   ]
  },
  {
   "cell_type": "markdown",
   "metadata": {},
   "source": [
    "<h2>Applying Recurrent Neural Networks/LSTM for Language Modeling</h2>\n",
    "Hello and welcome to this part. In this notebook, we will go over the topic of Language Modelling, and create a Recurrent Neural Network model based on the Long Short-Term Memory unit to train and benchmark on the Penn Treebank dataset. By the end of this notebook, you should be able to understand how TensorFlow builds and executes a RNN model for Language Modelling.\n"
   ]
  },
  {
   "cell_type": "markdown",
   "metadata": {},
   "source": [
    "<h2>The Objective</h2>\n",
    "By now, you should have an understanding of how Recurrent Networks work -- a specialized model to process sequential data by keeping track of the \"state\" or context. In this notebook, we go over a TensorFlow code snippet for creating a model focused on <b>Language Modelling</b> -- a very relevant task that is the cornerstone of many different linguistic problems such as <b>Speech Recognition, Machine Translation and Image Captioning</b>. For this, we will be using the Penn Treebank dataset, which is an often-used dataset for benchmarking Language Modelling models.\n"
   ]
  },
  {
   "cell_type": "markdown",
   "metadata": {},
   "source": [
    "<h2>Table of Contents</h2>\n",
    "<ol>\n",
    "    <li><a href=\"#language_modelling\">What exactly is Language Modelling?</a></li>\n",
    "    <li><a href=\"#treebank_dataset\">The Penn Treebank dataset</a></li>\n",
    "    <li><a href=\"#word_embedding\">Word Embedding</a></li>\n",
    "    <li><a href=\"#building_lstm_model\">Building the LSTM model for Language Modeling</a></li>\n",
    "    <li><a href=\"#ltsm\">LTSM</a></li>\n",
    "</ol>\n",
    "<p></p>\n",
    "</div>\n",
    "<br>\n"
   ]
  },
  {
   "cell_type": "markdown",
   "metadata": {
    "button": false,
    "deletable": true,
    "new_sheet": false,
    "run_control": {
     "read_only": false
    }
   },
   "source": [
    "* * *\n"
   ]
  },
  {
   "cell_type": "markdown",
   "metadata": {},
   "source": [
    "<a id=\"language_modelling\"></a>\n",
    "\n",
    "<h2>What exactly is Language Modelling?</h2>\n",
    "Language Modelling, to put it simply, <b>is the task of assigning probabilities to sequences of words</b>. This means that, given a context of one or a sequence of words in the language the model was trained on, the model should provide the next most probable words or sequence of words that follows from the given sequence of words the sentence. Language Modelling is one of the most important tasks in Natural Language Processing.\n",
    "\n",
    "<img src=\"https://ibm.box.com/shared/static/1d1i5gub6wljby2vani2vzxp0xsph702.png\" width=\"1080\">\n",
    "<center><i>Example of a sentence being predicted</i></center>\n",
    "<br><br>\n",
    "In this example, one can see the predictions for the next word of a sentence, given the context \"This is an\". As you can see, this boils down to a sequential data analysis task -- you are given a word or a sequence of words (the input data), and, given the context (the state), you need to find out what is the next word (the prediction). This kind of analysis is very important for language-related tasks such as <b>Speech Recognition, Machine Translation, Image Captioning, Text Correction</b> and many other very relevant problems. \n",
    "\n",
    "<img src=\"https://ibm.box.com/shared/static/az39idf9ipfdpc5ugifpgxnydelhyf3i.png\" width=\"1080\">\n",
    "<center><i>The above example is a schema of an RNN in execution</i></center>\n",
    "<br><br>\n",
    "As the above image shows, Recurrent Network models fit this problem like a glove. Alongside LSTM and its capacity to maintain the model's state for over one thousand time steps, we have all the tools we need to undertake this problem. The goal for this notebook is to create a model that can reach <b>low levels of perplexity</b> on our desired dataset.\n",
    "\n",
    "For Language Modelling problems, <b>perplexity</b> is the way to gauge efficiency. Perplexity is simply a measure of how well a probabilistic model is able to predict its sample. A higher-level way to explain this would be saying that <b>low perplexity means a higher degree of trust in the predictions the model makes</b>. Therefore, the lower perplexity is, the better.\n"
   ]
  },
  {
   "cell_type": "markdown",
   "metadata": {},
   "source": [
    "<a id=\"treebank_dataset\"></a>\n",
    "\n",
    "<h2>The Penn Treebank dataset</h2>\n",
    "Historically, datasets big enough for Natural Language Processing are hard to come by. This is in part due to the necessity of the sentences to be broken down and tagged with a certain degree of correctness -- or else the models trained on it won't be able to be correct at all. This means that we need a <b>large amount of data, annotated by or at least corrected by humans</b>. This is, of course, not an easy task at all.\n",
    "\n",
    "The Penn Treebank, or PTB for short, is a dataset maintained by the University of Pennsylvania. It is <i>huge</i> -- there are over <b>four million and eight hundred thousand</b> annotated words in it, all corrected by humans. It is composed of many different sources, from abstracts of Department of Energy papers to texts from the Library of America. Since it is verifiably correct and of such a huge size, the Penn Treebank is commonly used as a benchmark dataset for Language Modelling.\n",
    "\n",
    "The dataset is divided in different kinds of annotations, such as Piece-of-Speech, Syntactic and Semantic skeletons. For this example, we will simply use a sample of clean, non-annotated words (with the exception of one tag --<code><unk></code>\n",
    ", which is used for rare words such as uncommon proper nouns) for our model. This means that we just want to predict what the next words would be, not what they mean in context or their classes on a given sentence.\n",
    "\n",
    "<center>Example of text from the dataset we are going to use, <b>ptb.train</b></center>\n",
    "<br><br>\n",
    "\n",
    "<div class=\"alert alert-block alert-info\" style=\"margin-top: 20px\">\n",
    "    <center>the percentage of lung cancer deaths among the workers at the west <code>&lt;unk&gt;</code> mass. paper factory appears to be the highest for any asbestos workers studied in western industrialized countries he said \n",
    " the plant which is owned by <code>&lt;unk&gt;</code> & <code>&lt;unk&gt;</code> co. was under contract with <code>&lt;unk&gt;</code> to make the cigarette filters \n",
    " the finding probably will support those who argue that the U.S. should regulate the class of asbestos including <code>&lt;unk&gt;</code> more <code>&lt;unk&gt;</code> than the common kind of asbestos <code>&lt;unk&gt;</code> found in most schools and other buildings dr. <code>&lt;unk&gt;</code> said</center>\n",
    "</div>\n"
   ]
  },
  {
   "cell_type": "markdown",
   "metadata": {
    "button": false,
    "deletable": true,
    "new_sheet": false,
    "run_control": {
     "read_only": false
    }
   },
   "source": [
    "<a id=\"word_embedding\"></a>\n",
    "\n",
    "<h2>Word Embeddings</h2><br/>\n",
    "\n",
    "For better processing, in this example, we will make use of <a href=\"https://www.tensorflow.org/tutorials/word2vec/\"><b>word embeddings</b></a>, which is <b>a way of representing sentence structures or words as n-dimensional vectors (where n is a reasonably high number, such as 200 or 500) of real numbers</b>. Basically, we will assign each word a randomly-initialized vector, and input those into the network to be processed. After a number of iterations, these vectors are expected to assume values that help the network to correctly predict what it needs to -- in our case, the probable next word in the sentence. This is shown to be a very effective task in Natural Language Processing, and is a commonplace practice.\n",
    "<br><br>\n",
    "<font size=\"4\"><strong>\n",
    "$$Vec(\"Example\") = [0.02, 0.00, 0.00, 0.92, 0.30, \\ldots]$$\n",
    "</strong></font>\n",
    "<br>\n",
    "Word Embedding tends to group up similarly used words <i>reasonably</i> close together in the vectorial space. For example, if we use T-SNE (a dimensional reduction visualization algorithm) to flatten the dimensions of our vectors into a 2-dimensional space and plot these words in a 2-dimensional space, we might see something like this:\n",
    "\n",
    "<img src=\"https://ibm.box.com/shared/static/bqhc5dg879gcoabzhxra1w8rkg3od1cu.png\" width=\"800\">\n",
    "<center><i>T-SNE Mockup with clusters marked for easier visualization</i></center>\n",
    "<br><br>\n",
    "As you can see, words that are frequently used together, in place of each other, or in the same places as them tend to be grouped together -- being closer together the higher they are correlated. For example, \"None\" is pretty semantically close to \"Zero\", while a phrase that uses \"Italy\", you could probably also fit \"Germany\" in it, with little damage to the sentence structure. The vectorial \"closeness\" for similar words like this is a great indicator of a well-built model.\n",
    "\n",
    "<hr>\n",
    " \n"
   ]
  },
  {
   "cell_type": "markdown",
   "metadata": {
    "button": false,
    "deletable": true,
    "new_sheet": false,
    "run_control": {
     "read_only": false
    }
   },
   "source": [
    "We need to import the necessary modules for our code. We need <b><code>numpy</code></b> and <b><code>tensorflow</code></b>, obviously. Additionally, we can import directly the <b><code>tensorflow.models.rnn</code></b> model, which includes the function for building RNNs, and <b><code>tensorflow.models.rnn.ptb.reader</code></b> which is the helper module for getting the input data from the dataset we just downloaded.\n",
    "\n",
    "If you want to learn more take a look at <https://github.com/tensorflow/models/blob/master/tutorials/rnn/ptb/reader.py>\n"
   ]
  },
  {
   "cell_type": "code",
   "execution_count": 2,
   "metadata": {
    "tags": []
   },
   "outputs": [
    {
     "name": "stdout",
     "output_type": "stream",
     "text": [
      "Collecting tensorflow==2.2.0rc0\n",
      "\u001b[?25l  Downloading https://files.pythonhosted.org/packages/c2/a9/836bf28d748b12e8e979fb24a0d9d2f0930df913eb958363ed223406a0ca/tensorflow-2.2.0rc0-cp36-cp36m-manylinux2010_x86_64.whl (515.9MB)\n",
      "\u001b[K     |████████████████████████████████| 515.9MB 87kB/s s eta 0:00:01/s eta 0:00:03\n",
      "\u001b[?25hCollecting tensorflow-estimator<2.2.0,>=2.1.0 (from tensorflow==2.2.0rc0)\n",
      "\u001b[?25l  Downloading https://files.pythonhosted.org/packages/18/90/b77c328a1304437ab1310b463e533fa7689f4bfc41549593056d812fab8e/tensorflow_estimator-2.1.0-py2.py3-none-any.whl (448kB)\n",
      "\u001b[K     |████████████████████████████████| 450kB 17.7MB/s eta 0:00:01\n",
      "\u001b[?25hCollecting opt-einsum>=2.3.2 (from tensorflow==2.2.0rc0)\n",
      "\u001b[?25l  Downloading https://files.pythonhosted.org/packages/bc/19/404708a7e54ad2798907210462fd950c3442ea51acc8790f3da48d2bee8b/opt_einsum-3.3.0-py3-none-any.whl (65kB)\n",
      "\u001b[K     |████████████████████████████████| 71kB 36.1MB/s eta 0:00:01\n",
      "\u001b[?25hCollecting scipy==1.4.1; python_version >= \"3\" (from tensorflow==2.2.0rc0)\n",
      "\u001b[?25l  Downloading https://files.pythonhosted.org/packages/dc/29/162476fd44203116e7980cfbd9352eef9db37c49445d1fec35509022f6aa/scipy-1.4.1-cp36-cp36m-manylinux1_x86_64.whl (26.1MB)\n",
      "\u001b[K     |████████████████████████████████| 26.1MB 63.2MB/s eta 0:00:01\n",
      "\u001b[?25hRequirement already satisfied: numpy<2.0,>=1.16.0 in /home/jupyterlab/conda/envs/python/lib/python3.6/site-packages (from tensorflow==2.2.0rc0) (1.19.5)\n",
      "Collecting keras-preprocessing>=1.1.0 (from tensorflow==2.2.0rc0)\n",
      "\u001b[?25l  Downloading https://files.pythonhosted.org/packages/79/4c/7c3275a01e12ef9368a892926ab932b33bb13d55794881e3573482b378a7/Keras_Preprocessing-1.1.2-py2.py3-none-any.whl (42kB)\n",
      "\u001b[K     |████████████████████████████████| 51kB 29.0MB/s eta 0:00:01\n",
      "\u001b[?25hCollecting google-pasta>=0.1.8 (from tensorflow==2.2.0rc0)\n",
      "\u001b[?25l  Downloading https://files.pythonhosted.org/packages/a3/de/c648ef6835192e6e2cc03f40b19eeda4382c49b5bafb43d88b931c4c74ac/google_pasta-0.2.0-py3-none-any.whl (57kB)\n",
      "\u001b[K     |████████████████████████████████| 61kB 31.4MB/s eta 0:00:01\n",
      "\u001b[?25hRequirement already satisfied: protobuf>=3.8.0 in /home/jupyterlab/conda/envs/python/lib/python3.6/site-packages (from tensorflow==2.2.0rc0) (3.16.0)\n",
      "Requirement already satisfied: six>=1.12.0 in /home/jupyterlab/conda/envs/python/lib/python3.6/site-packages (from tensorflow==2.2.0rc0) (1.16.0)\n",
      "Collecting tensorboard<2.2.0,>=2.1.0 (from tensorflow==2.2.0rc0)\n",
      "\u001b[?25l  Downloading https://files.pythonhosted.org/packages/d9/41/bbf49b61370e4f4d245d4c6051dfb6db80cec672605c91b1652ac8cc3d38/tensorboard-2.1.1-py3-none-any.whl (3.8MB)\n",
      "\u001b[K     |████████████████████████████████| 3.9MB 56.5MB/s eta 0:00:01\n",
      "\u001b[?25hCollecting astunparse==1.6.3 (from tensorflow==2.2.0rc0)\n",
      "  Downloading https://files.pythonhosted.org/packages/2b/03/13dde6512ad7b4557eb792fbcf0c653af6076b81e5941d36ec61f7ce6028/astunparse-1.6.3-py2.py3-none-any.whl\n",
      "Collecting wrapt>=1.11.1 (from tensorflow==2.2.0rc0)\n",
      "  Using cached https://files.pythonhosted.org/packages/82/f7/e43cefbe88c5fd371f4cf0cf5eb3feccd07515af9fd6cf7dbf1d1793a797/wrapt-1.12.1.tar.gz\n",
      "Collecting h5py<2.11.0,>=2.10.0 (from tensorflow==2.2.0rc0)\n",
      "\u001b[?25l  Downloading https://files.pythonhosted.org/packages/60/06/cafdd44889200e5438b897388f3075b52a8ef01f28a17366d91de0fa2d05/h5py-2.10.0-cp36-cp36m-manylinux1_x86_64.whl (2.9MB)\n",
      "\u001b[K     |████████████████████████████████| 2.9MB 62.2MB/s eta 0:00:01\n",
      "\u001b[?25hRequirement already satisfied: termcolor>=1.1.0 in /home/jupyterlab/conda/envs/python/lib/python3.6/site-packages (from tensorflow==2.2.0rc0) (1.1.0)\n",
      "Collecting gast==0.3.3 (from tensorflow==2.2.0rc0)\n",
      "  Downloading https://files.pythonhosted.org/packages/d6/84/759f5dd23fec8ba71952d97bcc7e2c9d7d63bdc582421f3cd4be845f0c98/gast-0.3.3-py2.py3-none-any.whl\n",
      "Requirement already satisfied: absl-py>=0.7.0 in /home/jupyterlab/conda/envs/python/lib/python3.6/site-packages (from tensorflow==2.2.0rc0) (0.12.0)\n",
      "Requirement already satisfied: grpcio>=1.8.6 in /home/jupyterlab/conda/envs/python/lib/python3.6/site-packages (from tensorflow==2.2.0rc0) (1.37.1)\n",
      "Requirement already satisfied: wheel>=0.26; python_version >= \"3\" in /home/jupyterlab/conda/envs/python/lib/python3.6/site-packages (from tensorflow==2.2.0rc0) (0.36.2)\n",
      "Requirement already satisfied: werkzeug>=0.11.15 in /home/jupyterlab/conda/envs/python/lib/python3.6/site-packages (from tensorboard<2.2.0,>=2.1.0->tensorflow==2.2.0rc0) (2.0.0)\n",
      "Requirement already satisfied: markdown>=2.6.8 in /home/jupyterlab/conda/envs/python/lib/python3.6/site-packages (from tensorboard<2.2.0,>=2.1.0->tensorflow==2.2.0rc0) (3.3.4)\n",
      "Requirement already satisfied: requests<3,>=2.21.0 in /home/jupyterlab/conda/envs/python/lib/python3.6/site-packages (from tensorboard<2.2.0,>=2.1.0->tensorflow==2.2.0rc0) (2.25.1)\n",
      "Requirement already satisfied: setuptools>=41.0.0 in /home/jupyterlab/conda/envs/python/lib/python3.6/site-packages (from tensorboard<2.2.0,>=2.1.0->tensorflow==2.2.0rc0) (52.0.0.post20210125)\n",
      "Collecting google-auth<2,>=1.6.3 (from tensorboard<2.2.0,>=2.1.0->tensorflow==2.2.0rc0)\n",
      "\u001b[?25l  Downloading https://files.pythonhosted.org/packages/35/d2/0a79bc7e201c1b38ce46d607eb9398dc362dff1b054c7bba8e4e195c2ed7/google_auth-1.30.1-py2.py3-none-any.whl (146kB)\n",
      "\u001b[K     |████████████████████████████████| 153kB 62.4MB/s eta 0:00:01\n",
      "\u001b[?25hCollecting google-auth-oauthlib<0.5,>=0.4.1 (from tensorboard<2.2.0,>=2.1.0->tensorflow==2.2.0rc0)\n",
      "  Downloading https://files.pythonhosted.org/packages/9d/d3/7541e89f1fc456eef157224f597a8bba22589db6369a03eaba68c11f07a0/google_auth_oauthlib-0.4.4-py2.py3-none-any.whl\n",
      "Requirement already satisfied: dataclasses; python_version < \"3.7\" in /home/jupyterlab/conda/envs/python/lib/python3.6/site-packages (from werkzeug>=0.11.15->tensorboard<2.2.0,>=2.1.0->tensorflow==2.2.0rc0) (0.8)\n",
      "Requirement already satisfied: importlib-metadata; python_version < \"3.8\" in /home/jupyterlab/conda/envs/python/lib/python3.6/site-packages (from markdown>=2.6.8->tensorboard<2.2.0,>=2.1.0->tensorflow==2.2.0rc0) (4.0.1)\n",
      "Requirement already satisfied: idna<3,>=2.5 in /home/jupyterlab/conda/envs/python/lib/python3.6/site-packages (from requests<3,>=2.21.0->tensorboard<2.2.0,>=2.1.0->tensorflow==2.2.0rc0) (2.10)\n",
      "Requirement already satisfied: urllib3<1.27,>=1.21.1 in /home/jupyterlab/conda/envs/python/lib/python3.6/site-packages (from requests<3,>=2.21.0->tensorboard<2.2.0,>=2.1.0->tensorflow==2.2.0rc0) (1.26.4)\n",
      "Requirement already satisfied: certifi>=2017.4.17 in /home/jupyterlab/conda/envs/python/lib/python3.6/site-packages (from requests<3,>=2.21.0->tensorboard<2.2.0,>=2.1.0->tensorflow==2.2.0rc0) (2020.12.5)\n",
      "Requirement already satisfied: chardet<5,>=3.0.2 in /home/jupyterlab/conda/envs/python/lib/python3.6/site-packages (from requests<3,>=2.21.0->tensorboard<2.2.0,>=2.1.0->tensorflow==2.2.0rc0) (4.0.0)\n",
      "Collecting rsa<5,>=3.1.4; python_version >= \"3.6\" (from google-auth<2,>=1.6.3->tensorboard<2.2.0,>=2.1.0->tensorflow==2.2.0rc0)\n",
      "  Using cached https://files.pythonhosted.org/packages/e9/93/0c0f002031f18b53af7a6166103c02b9c0667be528944137cc954ec921b3/rsa-4.7.2-py3-none-any.whl\n",
      "Collecting cachetools<5.0,>=2.0.0 (from google-auth<2,>=1.6.3->tensorboard<2.2.0,>=2.1.0->tensorflow==2.2.0rc0)\n",
      "  Using cached https://files.pythonhosted.org/packages/bf/28/c4f5796c67ad06bb91d98d543a5e01805c1ff065e08871f78e52d2a331ad/cachetools-4.2.2-py3-none-any.whl\n",
      "Requirement already satisfied: pyasn1-modules>=0.2.1 in /home/jupyterlab/conda/envs/python/lib/python3.6/site-packages (from google-auth<2,>=1.6.3->tensorboard<2.2.0,>=2.1.0->tensorflow==2.2.0rc0) (0.2.8)\n",
      "Collecting requests-oauthlib>=0.7.0 (from google-auth-oauthlib<0.5,>=0.4.1->tensorboard<2.2.0,>=2.1.0->tensorflow==2.2.0rc0)\n",
      "  Using cached https://files.pythonhosted.org/packages/a3/12/b92740d845ab62ea4edf04d2f4164d82532b5a0b03836d4d4e71c6f3d379/requests_oauthlib-1.3.0-py2.py3-none-any.whl\n",
      "Requirement already satisfied: zipp>=0.5 in /home/jupyterlab/conda/envs/python/lib/python3.6/site-packages (from importlib-metadata; python_version < \"3.8\"->markdown>=2.6.8->tensorboard<2.2.0,>=2.1.0->tensorflow==2.2.0rc0) (3.4.1)\n",
      "Requirement already satisfied: typing-extensions>=3.6.4; python_version < \"3.8\" in /home/jupyterlab/conda/envs/python/lib/python3.6/site-packages (from importlib-metadata; python_version < \"3.8\"->markdown>=2.6.8->tensorboard<2.2.0,>=2.1.0->tensorflow==2.2.0rc0) (3.7.4.3)\n",
      "Requirement already satisfied: pyasn1>=0.1.3 in /home/jupyterlab/conda/envs/python/lib/python3.6/site-packages (from rsa<5,>=3.1.4; python_version >= \"3.6\"->google-auth<2,>=1.6.3->tensorboard<2.2.0,>=2.1.0->tensorflow==2.2.0rc0) (0.4.8)\n",
      "Collecting oauthlib>=3.0.0 (from requests-oauthlib>=0.7.0->google-auth-oauthlib<0.5,>=0.4.1->tensorboard<2.2.0,>=2.1.0->tensorflow==2.2.0rc0)\n",
      "\u001b[?25l  Downloading https://files.pythonhosted.org/packages/05/57/ce2e7a8fa7c0afb54a0581b14a65b56e62b5759dbc98e80627142b8a3704/oauthlib-3.1.0-py2.py3-none-any.whl (147kB)\n",
      "\u001b[K     |████████████████████████████████| 153kB 70.5MB/s eta 0:00:01\n",
      "\u001b[?25hBuilding wheels for collected packages: wrapt\n",
      "  Building wheel for wrapt (setup.py) ... \u001b[?25ldone\n",
      "\u001b[?25h  Stored in directory: /home/jupyterlab/.cache/pip/wheels/b1/c2/ed/d62208260edbd3fa7156545c00ef966f45f2063d0a84f8208a\n",
      "Successfully built wrapt\n",
      "Installing collected packages: tensorflow-estimator, opt-einsum, scipy, keras-preprocessing, google-pasta, rsa, cachetools, google-auth, oauthlib, requests-oauthlib, google-auth-oauthlib, tensorboard, astunparse, wrapt, h5py, gast, tensorflow\n",
      "  Found existing installation: scipy 1.5.3\n",
      "    Uninstalling scipy-1.5.3:\n",
      "      Successfully uninstalled scipy-1.5.3\n",
      "  Found existing installation: tensorboard 1.8.0\n",
      "    Uninstalling tensorboard-1.8.0:\n",
      "      Successfully uninstalled tensorboard-1.8.0\n",
      "  Found existing installation: h5py 2.8.0\n",
      "    Uninstalling h5py-2.8.0:\n",
      "      Successfully uninstalled h5py-2.8.0\n",
      "  Found existing installation: gast 0.4.0\n",
      "    Uninstalling gast-0.4.0:\n",
      "      Successfully uninstalled gast-0.4.0\n",
      "  Found existing installation: tensorflow 1.8.0\n",
      "    Uninstalling tensorflow-1.8.0:\n",
      "      Successfully uninstalled tensorflow-1.8.0\n",
      "Successfully installed astunparse-1.6.3 cachetools-4.2.2 gast-0.3.3 google-auth-1.30.1 google-auth-oauthlib-0.4.4 google-pasta-0.2.0 h5py-2.10.0 keras-preprocessing-1.1.2 oauthlib-3.1.0 opt-einsum-3.3.0 requests-oauthlib-1.3.0 rsa-4.7.2 scipy-1.4.1 tensorboard-2.1.1 tensorflow-2.2.0rc0 tensorflow-estimator-2.1.0 wrapt-1.12.1\n",
      "Requirement already satisfied: numpy in /home/jupyterlab/conda/envs/python/lib/python3.6/site-packages (1.19.5)\n"
     ]
    }
   ],
   "source": [
    "!pip install tensorflow==2.2.0rc0\n",
    "!pip install numpy\n"
   ]
  },
  {
   "cell_type": "code",
   "execution_count": 3,
   "metadata": {},
   "outputs": [],
   "source": [
    "import time\n",
    "import numpy as np\n",
    "import tensorflow as tf\n",
    "if not tf.__version__ == '2.2.0-rc0':\n",
    "    print(tf.__version__)\n",
    "    raise ValueError('please upgrade to TensorFlow 2.2.0-rc0, or restart your Kernel (Kernel->Restart & Clear Output)')"
   ]
  },
  {
   "cell_type": "markdown",
   "metadata": {},
   "source": [
    "IMPORTANT! => Please restart the kernel by clicking on \"Kernel\"->\"Restart and Clear Outout\" and wait until all output disapears. Then your changes are beeing picked up\n"
   ]
  },
  {
   "cell_type": "code",
   "execution_count": 4,
   "metadata": {
    "button": false,
    "deletable": true,
    "new_sheet": false,
    "run_control": {
     "read_only": false
    },
    "tags": []
   },
   "outputs": [
    {
     "name": "stdout",
     "output_type": "stream",
     "text": [
      "mkdir: cannot create directory ‘data’: File exists\n",
      "mkdir: cannot create directory ‘data/ptb’: File exists\n"
     ]
    }
   ],
   "source": [
    "!mkdir data\n",
    "!mkdir data/ptb\n",
    "!wget -q -O data/ptb/reader.py https://cf-courses-data.s3.us.cloud-object-storage.appdomain.cloud/IBMDeveloperSkillsNetwork-DL0120EN-SkillsNetwork/labs/Week3/data/ptb/reader.py\n",
    "!cp data/ptb/reader.py . \n",
    "\n"
   ]
  },
  {
   "cell_type": "code",
   "execution_count": 5,
   "metadata": {
    "tags": []
   },
   "outputs": [],
   "source": [
    "import reader"
   ]
  },
  {
   "cell_type": "markdown",
   "metadata": {
    "button": false,
    "deletable": true,
    "new_sheet": false,
    "run_control": {
     "read_only": false
    }
   },
   "source": [
    "<a id=\"building_lstm_model\"></a>\n",
    "\n",
    "<h2>Building the LSTM model for Language Modeling</h2>\n",
    "Now that we know exactly what we are doing, we can start building our model using TensorFlow. The very first thing we need to do is download and extract the <code>simple-examples</code> dataset, which can be done by executing the code cell below.\n"
   ]
  },
  {
   "cell_type": "code",
   "execution_count": 6,
   "metadata": {
    "button": false,
    "deletable": true,
    "new_sheet": false,
    "run_control": {
     "read_only": false
    },
    "tags": []
   },
   "outputs": [
    {
     "name": "stdout",
     "output_type": "stream",
     "text": [
      "--2021-05-25 05:08:09--  http://www.fit.vutbr.cz/~imikolov/rnnlm/simple-examples.tgz\n",
      "Resolving www.fit.vutbr.cz (www.fit.vutbr.cz)... 147.229.9.23, 2001:67c:1220:809::93e5:917\n",
      "Connecting to www.fit.vutbr.cz (www.fit.vutbr.cz)|147.229.9.23|:80... connected.\n",
      "HTTP request sent, awaiting response... 200 OK\n",
      "Length: 34869662 (33M) [application/x-gtar]\n",
      "Saving to: ‘simple-examples.tgz.1’\n",
      "\n",
      "simple-examples.tgz 100%[===================>]  33.25M  4.54MB/s    in 8.1s    \n",
      "\n",
      "2021-05-25 05:08:18 (4.10 MB/s) - ‘simple-examples.tgz.1’ saved [34869662/34869662]\n",
      "\n"
     ]
    }
   ],
   "source": [
    "!wget http://www.fit.vutbr.cz/~imikolov/rnnlm/simple-examples.tgz \n",
    "!tar xzf simple-examples.tgz -C data/"
   ]
  },
  {
   "cell_type": "markdown",
   "metadata": {
    "button": false,
    "deletable": true,
    "new_sheet": false,
    "run_control": {
     "read_only": false
    }
   },
   "source": [
    "Additionally, for the sake of making it easy to play around with the model's hyperparameters, we can declare them beforehand. Feel free to change these -- you will see a difference in performance each time you change those!  \n"
   ]
  },
  {
   "cell_type": "code",
   "execution_count": 7,
   "metadata": {
    "button": false,
    "deletable": true,
    "new_sheet": false,
    "run_control": {
     "read_only": false
    }
   },
   "outputs": [],
   "source": [
    "#Initial weight scale\n",
    "init_scale = 0.1\n",
    "#Initial learning rate\n",
    "learning_rate = 1.0\n",
    "#Maximum permissible norm for the gradient (For gradient clipping -- another measure against Exploding Gradients)\n",
    "max_grad_norm = 5\n",
    "#The number of layers in our model\n",
    "num_layers = 2\n",
    "#The total number of recurrence steps, also known as the number of layers when our RNN is \"unfolded\"\n",
    "num_steps = 20\n",
    "#The number of processing units (neurons) in the hidden layers\n",
    "hidden_size_l1 = 256\n",
    "hidden_size_l2 = 128\n",
    "#The maximum number of epochs trained with the initial learning rate\n",
    "max_epoch_decay_lr = 4\n",
    "#The total number of epochs in training\n",
    "max_epoch = 15\n",
    "#The probability for keeping data in the Dropout Layer (This is an optimization, but is outside our scope for this notebook!)\n",
    "#At 1, we ignore the Dropout Layer wrapping.\n",
    "keep_prob = 1\n",
    "#The decay for the learning rate\n",
    "decay = 0.5\n",
    "#The size for each batch of data\n",
    "batch_size = 30\n",
    "#The size of our vocabulary\n",
    "vocab_size = 10000\n",
    "embeding_vector_size= 200\n",
    "#Training flag to separate training from testing\n",
    "is_training = 1\n",
    "#Data directory for our dataset\n",
    "data_dir = \"data/simple-examples/data/\""
   ]
  },
  {
   "cell_type": "markdown",
   "metadata": {
    "button": false,
    "new_sheet": false,
    "run_control": {
     "read_only": false
    }
   },
   "source": [
    "Some clarifications for LSTM architecture based on the arguments:\n",
    "\n",
    "Network structure:\n",
    "\n",
    "<ul>\n",
    "    <li>In this network, the number of LSTM cells are 2. To give the model more expressive power, we can add multiple layers of LSTMs to process the data. The output of the first layer will become the input of the second and so on.\n",
    "    </li>\n",
    "    <li>The recurrence steps is 20, that is, when our RNN is \"Unfolded\", the recurrence step is 20.</li>   \n",
    "    <li>the structure is like:\n",
    "        <ul>\n",
    "            <li>200 input units -> [200x200] Weight -> 200 Hidden units (first layer) -> [200x200] Weight matrix  -> 200 Hidden units (second layer) ->  [200] weight Matrix -> 200 unit output</li>\n",
    "        </ul>\n",
    "    </li>\n",
    "</ul>\n",
    "<br>\n",
    "\n",
    "Input layer: \n",
    "\n",
    "<ul>\n",
    "    <li>The network has 200 input units.</li>\n",
    "    <li>Suppose each word is represented by an embedding vector of dimensionality e=200. The input layer of each cell will have 200 linear units. These e=200 linear units are connected to each of the h=200 LSTM units in the hidden layer (assuming there is only one hidden layer, though our case has 2 layers).\n",
    "    </li>\n",
    "    <li>The input shape is [batch_size, num_steps], that is [30x20]. It will turn into [30x20x200] after embedding, and then 20x[30x200]\n",
    "    </li>\n",
    "</ul>\n",
    "<br>\n",
    "\n",
    "Hidden layer:\n",
    "\n",
    "<ul>\n",
    "    <li>Each LSTM has 200 hidden units which is equivalent to the dimensionality of the embedding words and output.</li>\n",
    "</ul>\n",
    "<br>\n"
   ]
  },
  {
   "cell_type": "markdown",
   "metadata": {
    "button": false,
    "deletable": true,
    "new_sheet": false,
    "run_control": {
     "read_only": false
    }
   },
   "source": [
    "There is a lot to be done and a ton of information to process at the same time, so go over this code slowly. It may seem complex at first, but if you try to apply what you just learned about language modelling to the code you see, you should be able to understand it.\n",
    "\n",
    "This code is adapted from the <a href=\"https://github.com/tensorflow/models\">PTBModel</a> example bundled with the TensorFlow source code.\n",
    "\n",
    "<h3>Training data</h3>\n",
    "The story starts from data:\n",
    "<ul>\n",
    "    <li>Train data is a list of words, of size 929589, represented by numbers, e.g. [9971, 9972, 9974, 9975,...]</li>\n",
    "    <li>We read data as mini-batch of size b=30. Assume the size of each sentence is 20 words (num_steps = 20). Then it will take $$floor(\\frac{N}{b \\times h})+1=1548$$ iterations for the learner to go through all sentences once. Where N is the size of the list of words, b is batch size, and h is size of each sentence. So, the number of iterators is 1548\n",
    "    </li>\n",
    "    <li>Each batch data is read from train dataset of size 600, and shape of [30x20]</li>\n",
    "</ul>\n"
   ]
  },
  {
   "cell_type": "code",
   "execution_count": 8,
   "metadata": {
    "button": false,
    "deletable": true,
    "new_sheet": false,
    "run_control": {
     "read_only": false
    }
   },
   "outputs": [],
   "source": [
    "# Reads the data and separates it into training data, validation data and testing data\n",
    "raw_data = reader.ptb_raw_data(data_dir)\n",
    "train_data, valid_data, test_data, vocab, word_to_id = raw_data"
   ]
  },
  {
   "cell_type": "code",
   "execution_count": 9,
   "metadata": {},
   "outputs": [
    {
     "data": {
      "text/plain": [
       "929589"
      ]
     },
     "execution_count": 9,
     "metadata": {},
     "output_type": "execute_result"
    }
   ],
   "source": [
    "len(train_data)"
   ]
  },
  {
   "cell_type": "code",
   "execution_count": 10,
   "metadata": {
    "tags": []
   },
   "outputs": [
    {
     "name": "stdout",
     "output_type": "stream",
     "text": [
      "['aer', 'banknote', 'berlitz', 'calloway', 'centrust', 'cluett', 'fromstein', 'gitano', 'guterman', 'hydro-quebec', 'ipo', 'kia', 'memotec', 'mlx', 'nahb', 'punts', 'rake', 'regatta', 'rubens', 'sim', 'snack-food', 'ssangyong', 'swapo', 'wachter', '<eos>', 'pierre', '<unk>', 'N', 'years', 'old', 'will', 'join', 'the', 'board', 'as', 'a', 'nonexecutive', 'director', 'nov.', 'N', '<eos>', 'mr.', '<unk>', 'is', 'chairman', 'of', '<unk>', 'n.v.', 'the', 'dutch', 'publishing', 'group', '<eos>', 'rudolph', '<unk>', 'N', 'years', 'old', 'and', 'former', 'chairman', 'of', 'consolidated', 'gold', 'fields', 'plc', 'was', 'named', 'a', 'nonexecutive', 'director', 'of', 'this', 'british', 'industrial', 'conglomerate', '<eos>', 'a', 'form', 'of', 'asbestos', 'once', 'used', 'to', 'make', 'kent', 'cigarette', 'filters', 'has', 'caused', 'a', 'high', 'percentage', 'of', 'cancer', 'deaths', 'among', 'a', 'group', 'of']\n"
     ]
    }
   ],
   "source": [
    "def id_to_word(id_list):\n",
    "    line = []\n",
    "    for w in id_list:\n",
    "        for word, wid in word_to_id.items():\n",
    "            if wid == w:\n",
    "                line.append(word)\n",
    "    return line            \n",
    "                \n",
    "\n",
    "print(id_to_word(train_data[0:100]))"
   ]
  },
  {
   "cell_type": "markdown",
   "metadata": {
    "button": false,
    "deletable": true,
    "new_sheet": false,
    "run_control": {
     "read_only": false
    }
   },
   "source": [
    "Lets just read one mini-batch now and feed our network:\n"
   ]
  },
  {
   "cell_type": "code",
   "execution_count": 11,
   "metadata": {
    "button": false,
    "deletable": true,
    "new_sheet": false,
    "run_control": {
     "read_only": false
    }
   },
   "outputs": [],
   "source": [
    "itera = reader.ptb_iterator(train_data, batch_size, num_steps)\n",
    "first_touple = itera.__next__()\n",
    "_input_data = first_touple[0]\n",
    "_targets = first_touple[1]"
   ]
  },
  {
   "cell_type": "code",
   "execution_count": 12,
   "metadata": {
    "button": false,
    "deletable": true,
    "new_sheet": false,
    "run_control": {
     "read_only": false
    }
   },
   "outputs": [
    {
     "data": {
      "text/plain": [
       "(30, 20)"
      ]
     },
     "execution_count": 12,
     "metadata": {},
     "output_type": "execute_result"
    }
   ],
   "source": [
    "_input_data.shape"
   ]
  },
  {
   "cell_type": "code",
   "execution_count": 13,
   "metadata": {},
   "outputs": [
    {
     "data": {
      "text/plain": [
       "(30, 20)"
      ]
     },
     "execution_count": 13,
     "metadata": {},
     "output_type": "execute_result"
    }
   ],
   "source": [
    "_targets.shape"
   ]
  },
  {
   "cell_type": "markdown",
   "metadata": {
    "button": false,
    "deletable": true,
    "new_sheet": false,
    "run_control": {
     "read_only": false
    }
   },
   "source": [
    "Lets look at 3 sentences of our input x:\n"
   ]
  },
  {
   "cell_type": "code",
   "execution_count": 14,
   "metadata": {
    "button": false,
    "deletable": true,
    "new_sheet": false,
    "run_control": {
     "read_only": false
    }
   },
   "outputs": [
    {
     "data": {
      "text/plain": [
       "array([[9970, 9971, 9972, 9974, 9975, 9976, 9980, 9981, 9982, 9983, 9984,\n",
       "        9986, 9987, 9988, 9989, 9991, 9992, 9993, 9994, 9995],\n",
       "       [2654,    6,  334, 2886,    4,    1,  233,  711,  834,   11,  130,\n",
       "         123,    7,  514,    2,   63,   10,  514,    8,  605],\n",
       "       [   0, 1071,    4,    0,  185,   24,  368,   20,   31, 3109,  954,\n",
       "          12,    3,   21,    2, 2915,    2,   12,    3,   21]],\n",
       "      dtype=int32)"
      ]
     },
     "execution_count": 14,
     "metadata": {},
     "output_type": "execute_result"
    }
   ],
   "source": [
    "_input_data[0:3]"
   ]
  },
  {
   "cell_type": "code",
   "execution_count": 15,
   "metadata": {},
   "outputs": [
    {
     "name": "stdout",
     "output_type": "stream",
     "text": [
      "['aer', 'banknote', 'berlitz', 'calloway', 'centrust', 'cluett', 'fromstein', 'gitano', 'guterman', 'hydro-quebec', 'ipo', 'kia', 'memotec', 'mlx', 'nahb', 'punts', 'rake', 'regatta', 'rubens', 'sim']\n"
     ]
    }
   ],
   "source": [
    "print(id_to_word(_input_data[0,:]))"
   ]
  },
  {
   "cell_type": "markdown",
   "metadata": {
    "button": false,
    "deletable": true,
    "new_sheet": false,
    "run_control": {
     "read_only": false
    }
   },
   "source": [
    "<h3>Embeddings</h3>\n",
    "We have to convert the words in our dataset to vectors of numbers. The traditional approach is to use one-hot encoding method that is usually used for converting categorical values to numerical values. However, One-hot encoded vectors are high-dimensional, sparse and in a big dataset, computationally inefficient. So, we use word2vec approach. It is, in fact, a layer in our LSTM network, where the word IDs will be represented as a dense representation before feeding to the LSTM. \n",
    "\n",
    "The embedded vectors also get updated during the training process of the deep neural network.\n",
    "We create the embeddings for our input data. <b>embedding_vocab</b> is matrix of [10000x200] for all 10000 unique words.\n"
   ]
  },
  {
   "cell_type": "markdown",
   "metadata": {
    "button": false,
    "deletable": true,
    "new_sheet": false,
    "run_control": {
     "read_only": false
    }
   },
   "source": [
    "<b>embedding_lookup()</b> finds the embedded values for our batch of 30x20 words. It  goes to each row of <code>input_data</code>, and for each word in the row/sentence, finds the correspond vector in <code>embedding_dic<code>. <br>\n",
    "It creates a [30x20x200] tensor, so, the first element of <b>inputs</b> (the first sentence), is a matrix of 20x200, which each row of it, is vector representing a word in the sentence.\n"
   ]
  },
  {
   "cell_type": "code",
   "execution_count": 16,
   "metadata": {},
   "outputs": [],
   "source": [
    "embedding_layer = tf.keras.layers.Embedding(vocab_size, embeding_vector_size,batch_input_shape=(batch_size, num_steps),trainable=True,name=\"embedding_vocab\")  "
   ]
  },
  {
   "cell_type": "code",
   "execution_count": 17,
   "metadata": {},
   "outputs": [
    {
     "data": {
      "text/plain": [
       "<tf.Tensor: shape=(30, 20, 200), dtype=float32, numpy=\n",
       "array([[[-0.00957116, -0.0370154 , -0.0440088 , ..., -0.00893005,\n",
       "          0.0022872 ,  0.00950149],\n",
       "        [-0.02202204, -0.04407333, -0.01582472, ...,  0.01923188,\n",
       "         -0.00701262,  0.0023231 ],\n",
       "        [-0.03551577,  0.01222727,  0.03390953, ...,  0.00228463,\n",
       "         -0.00965674, -0.00772463],\n",
       "        ...,\n",
       "        [-0.00686736,  0.00570333, -0.02682337, ...,  0.03943181,\n",
       "         -0.00682757, -0.03854783],\n",
       "        [ 0.04755953,  0.03586521,  0.00368371, ...,  0.04048203,\n",
       "          0.04565154,  0.04724273],\n",
       "        [-0.03009384, -0.03024754,  0.03909509, ...,  0.04062873,\n",
       "         -0.01165745,  0.01716026]],\n",
       "\n",
       "       [[ 0.0408874 ,  0.00479193,  0.03007612, ..., -0.03181397,\n",
       "          0.01749906, -0.04144275],\n",
       "        [-0.03467071,  0.02287277,  0.04917279, ..., -0.04295254,\n",
       "         -0.04033501,  0.02116389],\n",
       "        [-0.03692522, -0.04221896,  0.03580545, ..., -0.02399938,\n",
       "         -0.01888247, -0.03334068],\n",
       "        ...,\n",
       "        [ 0.01703782,  0.03312573,  0.00015841, ..., -0.04084866,\n",
       "         -0.0098087 ,  0.03467475],\n",
       "        [ 0.04945941, -0.00237824,  0.03658164, ...,  0.03998316,\n",
       "          0.04794531,  0.02123426],\n",
       "        [-0.00273961,  0.01323498, -0.03415372, ..., -0.04581697,\n",
       "         -0.0470536 , -0.03687384]],\n",
       "\n",
       "       [[-0.04673452,  0.0030404 , -0.01675559, ...,  0.01201795,\n",
       "          0.00076986, -0.01746423],\n",
       "        [ 0.0084364 ,  0.04197556,  0.0232004 , ...,  0.01964189,\n",
       "         -0.02771854, -0.00380908],\n",
       "        [ 0.00045832,  0.0288713 ,  0.0159247 , ..., -0.02866283,\n",
       "         -0.00294102, -0.02565137],\n",
       "        ...,\n",
       "        [ 0.01947117, -0.00667491, -0.04782362, ..., -0.02638921,\n",
       "         -0.01798271,  0.02783952],\n",
       "        [ 0.01222029,  0.01089969,  0.04002934, ..., -0.0498363 ,\n",
       "          0.01701123, -0.02757722],\n",
       "        [ 0.0499394 ,  0.00636698,  0.00330061, ..., -0.04809517,\n",
       "          0.04969776, -0.0316424 ]],\n",
       "\n",
       "       ...,\n",
       "\n",
       "       [[-0.04905377, -0.00897094,  0.02211786, ..., -0.0148551 ,\n",
       "          0.01514084,  0.00715036],\n",
       "        [-0.02454749, -0.03567642, -0.04936322, ..., -0.01148934,\n",
       "         -0.00423784, -0.01204777],\n",
       "        [ 0.02932656,  0.01736644, -0.04128939, ...,  0.01043954,\n",
       "         -0.00864024,  0.0191269 ],\n",
       "        ...,\n",
       "        [-0.02679999, -0.02335616,  0.03803334, ..., -0.02690266,\n",
       "         -0.01498127,  0.0256825 ],\n",
       "        [ 0.02094228,  0.01774461, -0.00034652, ...,  0.00411725,\n",
       "          0.01697372,  0.00782607],\n",
       "        [ 0.03802702,  0.0223558 , -0.04360775, ...,  0.02700195,\n",
       "          0.00403548,  0.00900922]],\n",
       "\n",
       "       [[ 0.00068698, -0.03912848,  0.02163264, ..., -0.03513501,\n",
       "          0.0317297 , -0.00428997],\n",
       "        [-0.02426473,  0.03887876,  0.00068693, ...,  0.04055894,\n",
       "         -0.02791426,  0.02602137],\n",
       "        [ 0.00045832,  0.0288713 ,  0.0159247 , ..., -0.02866283,\n",
       "         -0.00294102, -0.02565137],\n",
       "        ...,\n",
       "        [-0.03789964,  0.03508231, -0.04626473, ...,  0.02298223,\n",
       "          0.01523966, -0.04713714],\n",
       "        [-0.03467071,  0.02287277,  0.04917279, ..., -0.04295254,\n",
       "         -0.04033501,  0.02116389],\n",
       "        [ 0.02909112, -0.02547876, -0.02076844, ...,  0.01157945,\n",
       "         -0.04566214,  0.03495007]],\n",
       "\n",
       "       [[ 0.03877655, -0.00064285,  0.01835928, ...,  0.00091939,\n",
       "         -0.02556216,  0.00792112],\n",
       "        [ 0.02057053, -0.04502919, -0.00174713, ..., -0.04504168,\n",
       "          0.04881975,  0.04791156],\n",
       "        [ 0.02925881,  0.04035112,  0.02942542, ...,  0.00468259,\n",
       "          0.00396197,  0.01024715],\n",
       "        ...,\n",
       "        [ 0.04432021,  0.04753245,  0.01353112, ...,  0.02135284,\n",
       "          0.01259926, -0.02492577],\n",
       "        [-0.04976773, -0.01265045, -0.01205156, ..., -0.02432183,\n",
       "         -0.01172559, -0.04591414],\n",
       "        [ 0.01141689, -0.02654393,  0.01912108, ...,  0.00789521,\n",
       "          0.00661752,  0.00676735]]], dtype=float32)>"
      ]
     },
     "execution_count": 17,
     "metadata": {},
     "output_type": "execute_result"
    }
   ],
   "source": [
    "# Define where to get the data for our embeddings from\n",
    "inputs = embedding_layer(_input_data)\n",
    "inputs"
   ]
  },
  {
   "cell_type": "markdown",
   "metadata": {},
   "source": [
    "<h3>Constructing Recurrent Neural Networks</h3>\n"
   ]
  },
  {
   "cell_type": "markdown",
   "metadata": {
    "button": false,
    "deletable": true,
    "new_sheet": false,
    "run_control": {
     "read_only": false
    }
   },
   "source": [
    "In this step, we create the stacked LSTM using <b>tf.keras.layers.StackedRNNCells</b>, which is a 2 layer LSTM network:\n"
   ]
  },
  {
   "cell_type": "code",
   "execution_count": 18,
   "metadata": {
    "tags": []
   },
   "outputs": [],
   "source": [
    "lstm_cell_l1 = tf.keras.layers.LSTMCell(hidden_size_l1)\n",
    "lstm_cell_l2 = tf.keras.layers.LSTMCell(hidden_size_l2)"
   ]
  },
  {
   "cell_type": "code",
   "execution_count": 19,
   "metadata": {
    "button": false,
    "deletable": true,
    "new_sheet": false,
    "run_control": {
     "read_only": false
    }
   },
   "outputs": [],
   "source": [
    "stacked_lstm = tf.keras.layers.StackedRNNCells([lstm_cell_l1, lstm_cell_l2])"
   ]
  },
  {
   "cell_type": "markdown",
   "metadata": {},
   "source": [
    "<b>tf.keras.layers.RNN</b> creates a recurrent neural network using <b>stacked_lstm</b>. \n",
    "\n",
    "The input should be a Tensor of shape: [batch_size, max_time, embedding_vector_size], in our case it would be (30, 20, 200)\n"
   ]
  },
  {
   "cell_type": "code",
   "execution_count": 20,
   "metadata": {},
   "outputs": [],
   "source": [
    "layer  =  tf.keras.layers.RNN(stacked_lstm,[batch_size, num_steps],return_state=False,stateful=True,trainable=True)"
   ]
  },
  {
   "cell_type": "markdown",
   "metadata": {
    "button": false,
    "deletable": true,
    "new_sheet": false,
    "run_control": {
     "read_only": false
    }
   },
   "source": [
    "Also, we initialize the states of the nework:\n",
    "\n",
    "<h4>_initial_state</h4>\n",
    "\n",
    "For each LSTM, there are 2 state matrices, c_state and m_state.  c_state and m_state represent \"Memory State\" and \"Cell State\". Each hidden layer, has a vector of size 30, which keeps the states. so, for 200 hidden units in each LSTM, we have a matrix of size [30x200]\n"
   ]
  },
  {
   "cell_type": "code",
   "execution_count": 21,
   "metadata": {},
   "outputs": [],
   "source": [
    "init_state = tf.Variable(tf.zeros([batch_size,embeding_vector_size]),trainable=False)"
   ]
  },
  {
   "cell_type": "code",
   "execution_count": 22,
   "metadata": {},
   "outputs": [],
   "source": [
    "layer.inital_state = init_state"
   ]
  },
  {
   "cell_type": "code",
   "execution_count": 23,
   "metadata": {},
   "outputs": [
    {
     "data": {
      "text/plain": [
       "<tf.Variable 'Variable:0' shape=(30, 200) dtype=float32, numpy=\n",
       "array([[0., 0., 0., ..., 0., 0., 0.],\n",
       "       [0., 0., 0., ..., 0., 0., 0.],\n",
       "       [0., 0., 0., ..., 0., 0., 0.],\n",
       "       ...,\n",
       "       [0., 0., 0., ..., 0., 0., 0.],\n",
       "       [0., 0., 0., ..., 0., 0., 0.],\n",
       "       [0., 0., 0., ..., 0., 0., 0.]], dtype=float32)>"
      ]
     },
     "execution_count": 23,
     "metadata": {},
     "output_type": "execute_result"
    }
   ],
   "source": [
    "layer.inital_state"
   ]
  },
  {
   "cell_type": "markdown",
   "metadata": {},
   "source": [
    "so, lets look at the outputs. The output of the stackedLSTM comes from 128 hidden_layer, and in each time step(=20), one of them get activated. we use the linear activation to map the 128 hidden layer to a [30X20 matrix]\n"
   ]
  },
  {
   "cell_type": "code",
   "execution_count": 24,
   "metadata": {},
   "outputs": [],
   "source": [
    "outputs = layer(inputs)"
   ]
  },
  {
   "cell_type": "code",
   "execution_count": 25,
   "metadata": {},
   "outputs": [
    {
     "data": {
      "text/plain": [
       "<tf.Tensor: shape=(30, 20, 128), dtype=float32, numpy=\n",
       "array([[[-1.2022089e-03, -1.2765491e-05, -3.8852190e-04, ...,\n",
       "         -6.6833402e-04,  7.9789548e-04,  4.6602314e-04],\n",
       "        [-2.6295267e-03,  6.2049058e-04,  9.3113136e-05, ...,\n",
       "         -9.7485678e-04,  2.3565397e-03,  6.3158583e-04],\n",
       "        [-2.3845094e-03,  2.3224025e-03,  1.5237386e-03, ...,\n",
       "         -3.1536291e-04,  3.3940882e-03, -6.7506148e-04],\n",
       "        ...,\n",
       "        [ 1.9735016e-03,  4.9772239e-03, -1.3562310e-03, ...,\n",
       "          6.9179205e-04, -1.0614265e-02,  3.3622594e-03],\n",
       "        [ 2.1383152e-03,  5.8536744e-03, -1.8447834e-03, ...,\n",
       "          1.6031021e-05, -1.1581728e-02,  4.0848376e-03],\n",
       "        [ 2.2697649e-03,  7.1060602e-03, -2.8649366e-03, ...,\n",
       "          1.5320502e-04, -1.2097017e-02,  3.7517056e-03]],\n",
       "\n",
       "       [[ 2.4795678e-04, -6.7805080e-04,  1.0189044e-03, ...,\n",
       "         -4.0013751e-04,  1.1998912e-03, -1.8361355e-04],\n",
       "        [ 7.1621360e-04, -1.1900072e-03,  1.9211789e-03, ...,\n",
       "         -1.0175785e-03,  1.5816825e-03, -2.0249622e-04],\n",
       "        [ 1.1957227e-03, -2.6155980e-05,  7.8761455e-04, ...,\n",
       "         -1.1427870e-03,  1.2283183e-03, -5.5997749e-05],\n",
       "        ...,\n",
       "        [ 2.9363756e-03, -1.7615723e-04, -4.0472872e-03, ...,\n",
       "          1.2495068e-03, -6.5525351e-03,  2.9026389e-03],\n",
       "        [ 4.4754990e-03,  6.7234004e-04, -3.9507314e-03, ...,\n",
       "          2.6403402e-03, -7.1968213e-03,  3.8014052e-03],\n",
       "        [ 4.8288931e-03, -7.9289387e-04, -4.7856164e-03, ...,\n",
       "          3.6387309e-03, -6.8020434e-03,  5.0925016e-03]],\n",
       "\n",
       "       [[ 1.6168921e-04,  3.8657637e-04, -5.1128335e-04, ...,\n",
       "          1.2510376e-03, -8.5158047e-04,  4.2097492e-04],\n",
       "        [ 1.3716930e-03,  1.6952257e-03, -7.9952442e-04, ...,\n",
       "          6.3540641e-04, -8.5963769e-04,  7.7249203e-04],\n",
       "        [ 2.2006489e-03,  1.0479004e-03, -1.2211144e-03, ...,\n",
       "         -1.5620510e-03, -4.9157720e-04,  2.0369000e-03],\n",
       "        ...,\n",
       "        [ 8.0340477e-03, -2.3520547e-03,  1.4593863e-03, ...,\n",
       "         -3.1352686e-03, -3.8028776e-03, -3.3809720e-03],\n",
       "        [ 8.2069794e-03, -2.0697999e-03,  2.4441101e-03, ...,\n",
       "         -3.8044564e-03, -3.5656388e-03, -4.1743214e-03],\n",
       "        [ 8.4341103e-03, -2.6057689e-03,  3.5197856e-03, ...,\n",
       "         -3.8782987e-03, -3.9314157e-03, -4.8318696e-03]],\n",
       "\n",
       "       ...,\n",
       "\n",
       "       [[ 2.1137488e-04, -5.1242037e-04, -1.6410922e-03, ...,\n",
       "          1.5462284e-03, -8.3275663e-04,  3.1301333e-04],\n",
       "        [ 7.0696483e-06, -9.6733493e-05, -2.8774124e-03, ...,\n",
       "          2.2590251e-03, -1.8006711e-03,  1.2013046e-03],\n",
       "        [ 8.1678794e-04, -9.4902341e-04, -4.8228563e-03, ...,\n",
       "          1.9125153e-03, -3.7624517e-03,  5.7647965e-04],\n",
       "        ...,\n",
       "        [ 6.8872748e-03,  3.7733726e-03,  2.2134495e-03, ...,\n",
       "         -4.4895937e-03, -6.4377519e-03, -2.3542864e-03],\n",
       "        [ 6.7564365e-03,  3.6312090e-03,  1.9546412e-03, ...,\n",
       "         -4.6770629e-03, -6.4863260e-03, -3.1760500e-03],\n",
       "        [ 6.9893333e-03,  2.2930726e-03,  3.0366778e-03, ...,\n",
       "         -4.9766754e-03, -8.0775050e-03, -2.8052591e-03]],\n",
       "\n",
       "       [[ 5.9740993e-05,  1.4567007e-03, -4.9558217e-05, ...,\n",
       "         -5.4690189e-04, -1.1947772e-03,  8.9917774e-04],\n",
       "        [-9.5295958e-04,  2.2182483e-03, -1.3482168e-04, ...,\n",
       "          6.5980869e-04, -7.4216508e-04,  1.4101628e-03],\n",
       "        [-1.2375258e-03,  1.2242238e-03, -1.4544975e-04, ...,\n",
       "         -6.6464324e-04, -2.7436149e-04,  2.7503022e-03],\n",
       "        ...,\n",
       "        [ 6.8774768e-03, -7.5507858e-03, -1.3495389e-04, ...,\n",
       "          5.1623687e-05, -5.4292154e-04, -3.9232899e-03],\n",
       "        [ 6.5746009e-03, -7.6593021e-03,  3.2765346e-04, ...,\n",
       "         -4.9170927e-04,  7.7504304e-04, -5.1092263e-03],\n",
       "        [ 5.9328428e-03, -5.3164284e-03, -1.5669315e-03, ...,\n",
       "         -1.1598235e-03,  1.3137164e-03, -3.8871712e-03]],\n",
       "\n",
       "       [[-6.2155054e-04,  1.3483667e-03,  4.0852092e-04, ...,\n",
       "          8.4827378e-05, -8.5078937e-04,  4.8890756e-04],\n",
       "        [-2.1739269e-04,  1.4910150e-03,  5.5978919e-04, ...,\n",
       "          3.4587196e-04, -2.2412061e-03, -8.2446619e-05],\n",
       "        [-7.2821561e-04, -3.5512706e-04,  7.4283680e-04, ...,\n",
       "         -7.1673334e-04, -1.2322953e-03,  2.1847771e-04],\n",
       "        ...,\n",
       "        [ 7.7870786e-03, -8.9035288e-04, -5.1592039e-03, ...,\n",
       "          2.0820184e-03, -7.3818634e-03, -1.6243407e-03],\n",
       "        [ 8.0798548e-03, -3.4266177e-03, -4.5148190e-03, ...,\n",
       "          2.3342764e-03, -8.0404067e-03, -1.9509886e-05],\n",
       "        [ 8.0314670e-03, -3.7597634e-03, -4.4592302e-03, ...,\n",
       "          1.8765555e-04, -7.8303162e-03,  8.2358037e-04]]], dtype=float32)>"
      ]
     },
     "execution_count": 25,
     "metadata": {},
     "output_type": "execute_result"
    }
   ],
   "source": [
    "outputs"
   ]
  },
  {
   "cell_type": "markdown",
   "metadata": {
    "button": false,
    "deletable": true,
    "new_sheet": false,
    "run_control": {
     "read_only": false
    }
   },
   "source": [
    "<h2>Dense layer</h2>\n",
    "We now create densely-connected neural network layer that would reshape the outputs tensor from  [30 x 20 x 128] to [30 x 20 x 10000].\n"
   ]
  },
  {
   "cell_type": "code",
   "execution_count": 26,
   "metadata": {},
   "outputs": [],
   "source": [
    "dense = tf.keras.layers.Dense(vocab_size)"
   ]
  },
  {
   "cell_type": "code",
   "execution_count": 27,
   "metadata": {},
   "outputs": [],
   "source": [
    "logits_outputs  = dense(outputs)"
   ]
  },
  {
   "cell_type": "code",
   "execution_count": 28,
   "metadata": {},
   "outputs": [
    {
     "name": "stdout",
     "output_type": "stream",
     "text": [
      "shape of the output from dense layer:  (30, 20, 10000)\n"
     ]
    }
   ],
   "source": [
    "print(\"shape of the output from dense layer: \", logits_outputs.shape) #(batch_size, sequence_length, vocab_size)"
   ]
  },
  {
   "cell_type": "markdown",
   "metadata": {},
   "source": [
    "<h2>Activation layer</h2>\n",
    "\n",
    "A softmax activation layers is also then applied to derive the probability of the output being in any of the multiclass(10000 in this case) possibilities. \n"
   ]
  },
  {
   "cell_type": "code",
   "execution_count": 29,
   "metadata": {},
   "outputs": [],
   "source": [
    "activation = tf.keras.layers.Activation('softmax')"
   ]
  },
  {
   "cell_type": "code",
   "execution_count": 30,
   "metadata": {},
   "outputs": [],
   "source": [
    "output_words_prob = activation(logits_outputs)"
   ]
  },
  {
   "cell_type": "code",
   "execution_count": 31,
   "metadata": {},
   "outputs": [
    {
     "name": "stdout",
     "output_type": "stream",
     "text": [
      "shape of the output from the activation layer:  (30, 20, 10000)\n"
     ]
    }
   ],
   "source": [
    "print(\"shape of the output from the activation layer: \", output_words_prob.shape) #(batch_size, sequence_length, vocab_size)"
   ]
  },
  {
   "cell_type": "markdown",
   "metadata": {},
   "source": [
    "Lets look at the probability of observing words for t=0 to t=20:\n"
   ]
  },
  {
   "cell_type": "code",
   "execution_count": 32,
   "metadata": {},
   "outputs": [
    {
     "name": "stdout",
     "output_type": "stream",
     "text": [
      "The probability of observing words in t=0 to t=20 tf.Tensor(\n",
      "[[1.00000885e-04 9.99918775e-05 1.00008801e-04 ... 1.00001176e-04\n",
      "  1.00024437e-04 1.00000703e-04]\n",
      " [1.00013378e-04 9.99854892e-05 1.00034558e-04 ... 1.00018791e-04\n",
      "  1.00006851e-04 1.00013138e-04]\n",
      " [1.00005673e-04 9.99914992e-05 1.00061894e-04 ... 1.00028250e-04\n",
      "  9.99951153e-05 1.00014120e-04]\n",
      " ...\n",
      " [9.99578042e-05 9.98838514e-05 1.00013473e-04 ... 9.99776239e-05\n",
      "  9.99948243e-05 9.99551266e-05]\n",
      " [9.99256154e-05 9.99096519e-05 1.00031946e-04 ... 9.99790864e-05\n",
      "  9.99825352e-05 9.99922559e-05]\n",
      " [9.99147815e-05 9.99125768e-05 1.00054196e-04 ... 9.99845943e-05\n",
      "  9.99724871e-05 1.00008430e-04]], shape=(20, 10000), dtype=float32)\n"
     ]
    }
   ],
   "source": [
    "print(\"The probability of observing words in t=0 to t=20\", output_words_prob[0,0:num_steps])"
   ]
  },
  {
   "cell_type": "markdown",
   "metadata": {
    "button": false,
    "deletable": true,
    "new_sheet": false,
    "run_control": {
     "read_only": false
    }
   },
   "source": [
    "<h3>Prediction</h3>\n",
    "What is the word correspond to the probability output? Lets use the maximum probability:\n"
   ]
  },
  {
   "cell_type": "code",
   "execution_count": 33,
   "metadata": {
    "tags": []
   },
   "outputs": [
    {
     "data": {
      "text/plain": [
       "array([5850, 6772,  111,  111,  111, 8860, 3021, 3021, 8338, 9420, 9420,\n",
       "       9420, 8365, 8365, 4050, 3632, 7909, 7909, 3355, 9046])"
      ]
     },
     "execution_count": 33,
     "metadata": {},
     "output_type": "execute_result"
    }
   ],
   "source": [
    "np.argmax(output_words_prob[0,0:num_steps], axis=1)"
   ]
  },
  {
   "cell_type": "markdown",
   "metadata": {
    "button": false,
    "deletable": true,
    "new_sheet": false,
    "run_control": {
     "read_only": false
    }
   },
   "source": [
    "So, what is the ground truth for the first word of first sentence? You can get it from target tensor, if you want to find the embedding vector: \n"
   ]
  },
  {
   "cell_type": "code",
   "execution_count": 34,
   "metadata": {
    "button": false,
    "deletable": true,
    "new_sheet": false,
    "run_control": {
     "read_only": false
    }
   },
   "outputs": [
    {
     "data": {
      "text/plain": [
       "array([9971, 9972, 9974, 9975, 9976, 9980, 9981, 9982, 9983, 9984, 9986,\n",
       "       9987, 9988, 9989, 9991, 9992, 9993, 9994, 9995, 9996], dtype=int32)"
      ]
     },
     "execution_count": 34,
     "metadata": {},
     "output_type": "execute_result"
    }
   ],
   "source": [
    "_targets[0]"
   ]
  },
  {
   "cell_type": "markdown",
   "metadata": {
    "button": false,
    "new_sheet": false,
    "run_control": {
     "read_only": false
    }
   },
   "source": [
    "<h4>Objective function</h4>\n",
    "\n",
    "How similar the predicted words are to the target words?\n",
    "\n",
    "Now we have to define our objective function, to calculate the similarity of predicted values to ground truth, and then, penalize the model with the error. Our objective is to minimize loss function, that is, to minimize the average negative log probability of the target words:\n",
    "\n",
    "$$\\text{loss} = -\\frac{1}{N}\\sum_{i=1}^{N} \\ln p_{\\text{target}_i}$$\n",
    "\n",
    "This function is already implemented and available in TensorFlow through _tf.keras.losses.sparse_categorical_crossentropy_. It calculates the categorical cross-entropy loss for <b>logits</b> and the <b>target</b> sequence.  \n",
    "\n",
    "The arguments of this function are:  \n",
    "\n",
    "<ul>\n",
    "    <li>logits: List of 2D Tensors of shape [batch_size x num_decoder_symbols].</li>  \n",
    "    <li>targets: List of 1D batch-sized int32 Tensors of the same length as logits.</li>   \n",
    "</ul>\n"
   ]
  },
  {
   "cell_type": "code",
   "execution_count": 35,
   "metadata": {},
   "outputs": [],
   "source": [
    "def crossentropy(y_true, y_pred):\n",
    "    return tf.keras.losses.sparse_categorical_crossentropy(y_true, y_pred)"
   ]
  },
  {
   "cell_type": "code",
   "execution_count": 36,
   "metadata": {},
   "outputs": [],
   "source": [
    "loss  = crossentropy(_targets, output_words_prob)"
   ]
  },
  {
   "cell_type": "markdown",
   "metadata": {
    "button": false,
    "new_sheet": false,
    "run_control": {
     "read_only": false
    }
   },
   "source": [
    "Lets look at the first 10 values of loss:\n"
   ]
  },
  {
   "cell_type": "code",
   "execution_count": 37,
   "metadata": {},
   "outputs": [
    {
     "data": {
      "text/plain": [
       "<tf.Tensor: shape=(10,), dtype=float32, numpy=\n",
       "array([9.210373, 9.210451, 9.210514, 9.210528, 9.210598, 9.210603,\n",
       "       9.20973 , 9.210336, 9.211235, 9.209631], dtype=float32)>"
      ]
     },
     "execution_count": 37,
     "metadata": {},
     "output_type": "execute_result"
    }
   ],
   "source": [
    "loss[0,:10]"
   ]
  },
  {
   "cell_type": "markdown",
   "metadata": {},
   "source": [
    "Now, we define cost as average of the losses:\n"
   ]
  },
  {
   "cell_type": "code",
   "execution_count": 38,
   "metadata": {},
   "outputs": [
    {
     "data": {
      "text/plain": [
       "<tf.Tensor: shape=(), dtype=float32, numpy=184.20714>"
      ]
     },
     "execution_count": 38,
     "metadata": {},
     "output_type": "execute_result"
    }
   ],
   "source": [
    "cost = tf.reduce_sum(loss / batch_size)\n",
    "cost"
   ]
  },
  {
   "cell_type": "markdown",
   "metadata": {
    "button": false,
    "deletable": true,
    "new_sheet": false,
    "run_control": {
     "read_only": false
    }
   },
   "source": [
    "<h3>Training</h3>\n",
    "\n",
    "To do training for our network, we have to take the following steps:\n",
    "\n",
    "<ol>\n",
    "    <li>Define the optimizer.</li>\n",
    "    <li>Assemble layers to build model.</li>\n",
    "    <li>Calculate the gradients based on the loss function.</li>\n",
    "    <li>Apply the optimizer to the variables/gradients tuple.</li>\n",
    "</ol>\n"
   ]
  },
  {
   "cell_type": "markdown",
   "metadata": {
    "button": false,
    "deletable": true,
    "new_sheet": false,
    "run_control": {
     "read_only": false
    }
   },
   "source": [
    "<h4>1. Define Optimizer</h4>\n"
   ]
  },
  {
   "cell_type": "code",
   "execution_count": 39,
   "metadata": {
    "tags": []
   },
   "outputs": [],
   "source": [
    "# Create a variable for the learning rate\n",
    "lr = tf.Variable(0.0, trainable=False)\n",
    "optimizer = tf.keras.optimizers.SGD(lr=lr, clipnorm=max_grad_norm)"
   ]
  },
  {
   "cell_type": "markdown",
   "metadata": {},
   "source": [
    "<h4>2. Assemble layers to build model.</h4>\n"
   ]
  },
  {
   "cell_type": "code",
   "execution_count": 40,
   "metadata": {},
   "outputs": [
    {
     "name": "stdout",
     "output_type": "stream",
     "text": [
      "Model: \"sequential\"\n",
      "_________________________________________________________________\n",
      "Layer (type)                 Output Shape              Param #   \n",
      "=================================================================\n",
      "embedding_vocab (Embedding)  (30, 20, 200)             2000000   \n",
      "_________________________________________________________________\n",
      "rnn (RNN)                    (30, 20, 128)             671088    \n",
      "_________________________________________________________________\n",
      "dense (Dense)                (30, 20, 10000)           1290000   \n",
      "_________________________________________________________________\n",
      "activation (Activation)      (30, 20, 10000)           0         \n",
      "=================================================================\n",
      "Total params: 3,961,088\n",
      "Trainable params: 3,955,088\n",
      "Non-trainable params: 6,000\n",
      "_________________________________________________________________\n"
     ]
    }
   ],
   "source": [
    "model = tf.keras.Sequential()\n",
    "model.add(embedding_layer)\n",
    "model.add(layer)\n",
    "model.add(dense)\n",
    "model.add(activation)\n",
    "model.compile(loss=crossentropy, optimizer=optimizer)\n",
    "model.summary()"
   ]
  },
  {
   "cell_type": "markdown",
   "metadata": {
    "button": false,
    "new_sheet": false,
    "run_control": {
     "read_only": false
    }
   },
   "source": [
    "<h4>2. Trainable Variables</h4>\n"
   ]
  },
  {
   "cell_type": "markdown",
   "metadata": {
    "button": false,
    "new_sheet": false,
    "run_control": {
     "read_only": false
    }
   },
   "source": [
    "Defining a variable, if you passed <i>trainable=True</i>, the variable constructor automatically adds new variables to the graph collection <b>GraphKeys.TRAINABLE_VARIABLES</b>. Now, using <i>tf.trainable_variables()</i> you can get all variables created with <b>trainable=True</b>.\n"
   ]
  },
  {
   "cell_type": "code",
   "execution_count": 41,
   "metadata": {
    "button": false,
    "new_sheet": false,
    "run_control": {
     "read_only": false
    }
   },
   "outputs": [],
   "source": [
    "# Get all TensorFlow variables marked as \"trainable\" (i.e. all of them except _lr, which we just created)\n",
    "tvars = model.trainable_variables"
   ]
  },
  {
   "cell_type": "markdown",
   "metadata": {
    "button": false,
    "new_sheet": false,
    "run_control": {
     "read_only": false
    }
   },
   "source": [
    "Note: we can find the name and scope of all variables:\n"
   ]
  },
  {
   "cell_type": "code",
   "execution_count": 42,
   "metadata": {
    "button": false,
    "new_sheet": false,
    "run_control": {
     "read_only": false
    }
   },
   "outputs": [
    {
     "data": {
      "text/plain": [
       "['embedding_vocab/embeddings:0',\n",
       " 'rnn/stacked_rnn_cells/lstm_cell/kernel:0',\n",
       " 'rnn/stacked_rnn_cells/lstm_cell/recurrent_kernel:0',\n",
       " 'rnn/stacked_rnn_cells/lstm_cell/bias:0',\n",
       " 'rnn/stacked_rnn_cells/lstm_cell_1/kernel:0',\n",
       " 'rnn/stacked_rnn_cells/lstm_cell_1/recurrent_kernel:0',\n",
       " 'rnn/stacked_rnn_cells/lstm_cell_1/bias:0',\n",
       " 'dense/kernel:0',\n",
       " 'dense/bias:0']"
      ]
     },
     "execution_count": 42,
     "metadata": {},
     "output_type": "execute_result"
    }
   ],
   "source": [
    "[v.name for v in tvars] "
   ]
  },
  {
   "cell_type": "markdown",
   "metadata": {
    "button": false,
    "new_sheet": false,
    "run_control": {
     "read_only": false
    }
   },
   "source": [
    "<h4>3. Calculate the gradients based on the loss function</h4>\n"
   ]
  },
  {
   "cell_type": "markdown",
   "metadata": {
    "button": false,
    "deletable": true,
    "new_sheet": false,
    "run_control": {
     "read_only": false
    }
   },
   "source": [
    "**Gradient**: The gradient of a function is the slope of its derivative (line), or in other words, the rate of change of a function. It's a vector (a direction to move) that points in the direction of greatest increase of the function, and calculated by the <b>derivative</b> operation.\n"
   ]
  },
  {
   "cell_type": "markdown",
   "metadata": {},
   "source": [
    "First lets recall the gradient function using an toy example:\n",
    "$$ z = \\left(2x^2 + 3xy\\right)$$\n"
   ]
  },
  {
   "cell_type": "code",
   "execution_count": 43,
   "metadata": {},
   "outputs": [],
   "source": [
    "x = tf.constant(1.0)\n",
    "y =  tf.constant(2.0)\n",
    "with tf.GradientTape(persistent=True) as g:\n",
    "    g.watch(x)\n",
    "    g.watch(y)\n",
    "    func_test = 2 * x * x + 3 * x * y"
   ]
  },
  {
   "cell_type": "markdown",
   "metadata": {},
   "source": [
    "The <b>tf.gradients()</b> function allows you to compute the symbolic gradient of one tensor with respect to one or more other tensors—including variables. <b>tf.gradients(func, xs)</b> constructs symbolic partial derivatives of sum of <b>func</b> w.r.t. <i>x</i> in <b>xs</b>. \n",
    "\n",
    "Now, lets look at the derivitive w.r.t. <b>var_x</b>:\n",
    "$$ \\frac{\\partial \\:}{\\partial \\:x}\\left(2x^2 + 3xy\\right) = 4x + 3y $$\n"
   ]
  },
  {
   "cell_type": "code",
   "execution_count": 44,
   "metadata": {},
   "outputs": [
    {
     "name": "stdout",
     "output_type": "stream",
     "text": [
      "tf.Tensor(10.0, shape=(), dtype=float32)\n"
     ]
    }
   ],
   "source": [
    "var_grad = g.gradient(func_test, x) # Will compute to 10.0\n",
    "print(var_grad)"
   ]
  },
  {
   "cell_type": "markdown",
   "metadata": {},
   "source": [
    "the derivative w.r.t. <b>var_y</b>:\n",
    "$$ \\frac{\\partial \\:}{\\partial \\:y}\\left(2x^2 + 3xy\\right) = 3x $$\n"
   ]
  },
  {
   "cell_type": "code",
   "execution_count": 45,
   "metadata": {},
   "outputs": [
    {
     "name": "stdout",
     "output_type": "stream",
     "text": [
      "tf.Tensor(3.0, shape=(), dtype=float32)\n"
     ]
    }
   ],
   "source": [
    "var_grad = g.gradient(func_test, y) # Will compute to 3.0\n",
    "print(var_grad)"
   ]
  },
  {
   "cell_type": "markdown",
   "metadata": {},
   "source": [
    "Now, we can look at gradients w.r.t all variables:\n"
   ]
  },
  {
   "cell_type": "code",
   "execution_count": 46,
   "metadata": {},
   "outputs": [],
   "source": [
    "with tf.GradientTape() as tape:\n",
    "    # Forward pass.\n",
    "    output_words_prob = model(_input_data)\n",
    "    # Loss value for this batch.\n",
    "    loss  = crossentropy(_targets, output_words_prob)\n",
    "    cost = tf.reduce_sum(loss,axis=0) / batch_size"
   ]
  },
  {
   "cell_type": "code",
   "execution_count": 47,
   "metadata": {},
   "outputs": [],
   "source": [
    "# Get gradients of loss wrt the trainable variables.\n",
    "grad_t_list = tape.gradient(cost, tvars)"
   ]
  },
  {
   "cell_type": "code",
   "execution_count": 48,
   "metadata": {},
   "outputs": [
    {
     "name": "stdout",
     "output_type": "stream",
     "text": [
      "[<tensorflow.python.framework.indexed_slices.IndexedSlices object at 0x7ff10bd10128>, <tf.Tensor: shape=(200, 1024), dtype=float32, numpy=\n",
      "array([[-9.39314191e-08,  2.62118022e-07, -3.99022781e-07, ...,\n",
      "        -2.48419951e-07,  5.21874483e-07, -1.68560703e-07],\n",
      "       [ 1.13425955e-07, -1.70980243e-07,  1.54684813e-07, ...,\n",
      "         1.61430336e-07, -5.22659604e-08,  5.66139306e-07],\n",
      "       [ 4.30963070e-08,  2.13918980e-07, -1.46882257e-07, ...,\n",
      "        -5.84859094e-07,  2.96175187e-07, -1.61100814e-07],\n",
      "       ...,\n",
      "       [-9.76822093e-07,  2.22257086e-07, -1.46845068e-07, ...,\n",
      "         3.61423730e-07, -4.99318276e-07, -7.47364268e-08],\n",
      "       [-1.16097695e-07,  4.15904083e-07, -3.27089651e-07, ...,\n",
      "        -3.50854350e-07,  3.03685766e-07, -5.05347586e-08],\n",
      "       [-3.57992718e-07,  9.42649535e-07,  1.40660106e-07, ...,\n",
      "         3.25470324e-07, -5.57919236e-07, -3.91415767e-07]], dtype=float32)>, <tf.Tensor: shape=(256, 1024), dtype=float32, numpy=\n",
      "array([[ 7.98965019e-08,  1.58967790e-08, -7.49877529e-08, ...,\n",
      "         6.84165684e-08, -1.21433544e-07,  7.81137146e-08],\n",
      "       [-8.86906832e-08, -1.10466630e-07,  7.04751528e-08, ...,\n",
      "        -1.99911625e-07,  6.77330405e-08, -1.92892955e-07],\n",
      "       [-9.15558118e-09,  3.82600618e-08,  1.20353576e-07, ...,\n",
      "         2.43176430e-08,  4.96726145e-08,  4.28196039e-08],\n",
      "       ...,\n",
      "       [-4.49938824e-08,  1.30310589e-08,  9.22934902e-08, ...,\n",
      "         3.21845235e-08, -1.69227633e-07,  9.51203489e-08],\n",
      "       [ 7.04459424e-08,  2.93812370e-08,  1.07168496e-09, ...,\n",
      "        -6.06118977e-09, -2.75237625e-07,  1.19298690e-07],\n",
      "       [-1.73741483e-08,  6.49279954e-08, -8.50519566e-09, ...,\n",
      "         1.08912644e-07,  4.46051942e-08, -4.33495018e-07]], dtype=float32)>, <tf.Tensor: shape=(1024,), dtype=float32, numpy=\n",
      "array([-2.8998249e-05, -1.9598108e-06,  8.0140017e-06, ...,\n",
      "        3.9900083e-06, -1.6015269e-05,  3.9588092e-05], dtype=float32)>, <tf.Tensor: shape=(256, 512), dtype=float32, numpy=\n",
      "array([[ 1.07412248e-07, -3.30059436e-07, -1.80022795e-07, ...,\n",
      "         8.21527095e-08, -1.09675639e-07,  9.59499928e-08],\n",
      "       [ 4.28997922e-08,  8.26928712e-08,  2.25380589e-07, ...,\n",
      "        -2.93380964e-09,  2.04668424e-07, -1.43817886e-07],\n",
      "       [ 2.24440768e-08, -3.59755390e-08,  7.14154140e-08, ...,\n",
      "        -5.87878333e-08,  8.66929923e-08, -1.14178292e-07],\n",
      "       ...,\n",
      "       [-6.75486334e-09,  1.37098880e-07,  8.06085438e-08, ...,\n",
      "        -1.13691556e-07, -3.24695293e-09,  1.87508959e-08],\n",
      "       [-4.53940068e-08,  1.36184866e-07, -1.92692454e-07, ...,\n",
      "        -9.06506585e-08,  6.51697150e-08, -4.58047467e-08],\n",
      "       [ 1.46811686e-07,  2.70475287e-09,  1.03754651e-07, ...,\n",
      "         4.62470915e-08, -2.36661464e-07,  4.70381138e-08]], dtype=float32)>, <tf.Tensor: shape=(128, 512), dtype=float32, numpy=\n",
      "array([[ 9.85046711e-10,  8.17538819e-08,  1.04590896e-07, ...,\n",
      "        -1.05094486e-07,  4.23681357e-08,  3.65359014e-08],\n",
      "       [ 2.42587070e-08, -3.90157766e-07, -6.78470471e-08, ...,\n",
      "         1.93626462e-07, -4.81517048e-09,  3.09494865e-08],\n",
      "       [-9.58739719e-08, -1.86320975e-07,  8.01645541e-08, ...,\n",
      "        -8.43542658e-09,  1.81978628e-08,  1.01435731e-08],\n",
      "       ...,\n",
      "       [ 4.99749930e-08,  1.11503262e-07,  1.22629871e-08, ...,\n",
      "        -1.08501908e-07, -2.25032750e-07,  1.77517592e-08],\n",
      "       [-6.72783500e-08,  3.97687785e-08,  3.15509086e-09, ...,\n",
      "        -1.10753049e-07,  2.18638718e-07,  1.93114680e-08],\n",
      "       [ 8.68868000e-09,  2.15948646e-08,  7.59205605e-08, ...,\n",
      "        -8.54896385e-08,  1.21629313e-07, -2.51341959e-07]], dtype=float32)>, <tf.Tensor: shape=(512,), dtype=float32, numpy=\n",
      "array([ 1.39749627e-05, -3.76882349e-06,  8.96398888e-06, -1.31743700e-05,\n",
      "        1.67521976e-05, -1.29416094e-05, -9.15647342e-06,  6.39345380e-05,\n",
      "       -5.72630124e-05,  1.29130940e-05,  3.40937440e-05, -1.56891729e-05,\n",
      "        1.15284092e-06,  3.66118584e-05,  1.46139810e-05,  3.08492599e-05,\n",
      "       -2.05330562e-05, -4.19020544e-05, -1.96311667e-05,  1.78033170e-05,\n",
      "        1.70075546e-05, -9.97651077e-05, -1.38879277e-05, -8.06759545e-06,\n",
      "        1.09022403e-06, -1.05984691e-05, -1.59339543e-05,  2.94251822e-05,\n",
      "        1.79913131e-05,  1.95829907e-05,  5.11334838e-05,  1.95937464e-05,\n",
      "        3.57616336e-05, -3.34189244e-05, -1.90152241e-05,  5.40697738e-06,\n",
      "        1.83098018e-05, -1.17980053e-05,  1.32391224e-05,  1.51734844e-06,\n",
      "       -1.91368599e-05,  1.15582225e-05, -1.84029741e-05,  2.25827698e-05,\n",
      "        3.42044223e-05, -1.00754696e-05,  7.63879871e-06,  1.04035926e-05,\n",
      "       -1.50632459e-05,  1.51706327e-05,  2.21430146e-05,  7.72670865e-06,\n",
      "        4.34368849e-06,  5.23488889e-05,  6.08974951e-05, -4.02940714e-07,\n",
      "        3.31097108e-05,  2.30250880e-05,  6.54881842e-06, -2.01052680e-05,\n",
      "        4.57243586e-05,  8.29866076e-06,  3.46971774e-06, -4.32161833e-05,\n",
      "        3.15939769e-06, -3.70519119e-05,  8.34364473e-05, -2.73426595e-05,\n",
      "       -2.48684919e-05, -1.50828919e-06,  3.35961959e-05,  4.35807378e-05,\n",
      "        8.95316771e-06,  1.17515665e-05,  7.48318143e-06, -2.64554674e-05,\n",
      "       -4.32827619e-06, -7.13142872e-05, -9.53448944e-06, -1.05250321e-04,\n",
      "        1.06909674e-05,  1.70861040e-06,  2.88661286e-05,  3.43101674e-05,\n",
      "       -4.64842342e-05, -4.73361888e-06,  6.07189249e-05, -8.95330868e-06,\n",
      "        4.20785318e-06, -1.90115861e-05,  3.15138386e-05, -1.31530360e-05,\n",
      "        2.64375340e-05,  4.38430252e-05, -4.04711463e-05, -1.36792860e-05,\n",
      "        3.56617420e-07,  6.96728512e-06,  6.54137511e-06, -1.14838385e-05,\n",
      "       -7.29575986e-05,  8.30887584e-05, -9.98333599e-06,  4.17117517e-05,\n",
      "        4.93591506e-05,  3.73144394e-06,  2.38304310e-05, -8.15739986e-06,\n",
      "        2.08518941e-07,  2.06426157e-05,  2.32165530e-05, -3.96405376e-05,\n",
      "       -7.28961913e-06,  2.96934886e-05, -3.21085317e-05, -1.30288645e-05,\n",
      "        4.43730387e-05,  3.05496069e-05, -4.04220664e-05, -2.96220460e-05,\n",
      "       -1.57685608e-05,  1.26957309e-06, -1.04261107e-06, -4.15513277e-05,\n",
      "        3.40642328e-05, -7.22126060e-07,  1.92787520e-05, -1.08884042e-05,\n",
      "        2.23408460e-06, -1.22098827e-05,  1.39983404e-05, -1.77484435e-05,\n",
      "        3.82240432e-05,  4.79758774e-06, -4.96365465e-06,  7.10162567e-05,\n",
      "       -4.89053491e-05,  1.32663017e-05,  1.37246243e-05, -2.15825949e-05,\n",
      "        3.15386133e-05,  4.94843334e-05, -3.91034009e-05,  4.36966584e-05,\n",
      "       -1.77625261e-05, -6.67449931e-05, -1.86241741e-05,  4.07740881e-05,\n",
      "        3.71136557e-05, -1.41147262e-04, -1.94152799e-05, -2.57972442e-06,\n",
      "       -1.54910176e-05, -4.57787282e-05, -3.05550057e-05,  4.20012366e-05,\n",
      "        4.61966993e-05,  2.38661742e-05,  5.18523739e-05,  5.63785870e-05,\n",
      "        3.13509699e-05, -7.84225340e-05, -2.76612609e-05,  6.67077529e-06,\n",
      "        2.82039418e-05, -6.46019616e-05,  8.43068847e-07, -6.16015404e-06,\n",
      "       -4.05861865e-05,  3.68804103e-06, -1.05780036e-05,  2.32997954e-05,\n",
      "        4.34155481e-05, -2.32484999e-05,  3.63036816e-05,  4.62768221e-05,\n",
      "       -1.20214136e-05, -2.23178831e-05,  2.70081346e-05, -1.49162870e-05,\n",
      "        1.86532852e-05,  7.23241974e-05,  5.32182494e-05,  2.38033681e-05,\n",
      "        5.07544755e-05,  2.51493966e-05,  3.70195266e-07, -1.40396123e-05,\n",
      "        1.16999829e-04,  3.45469525e-05, -1.21027888e-05, -4.41470693e-05,\n",
      "       -3.19513529e-05, -6.44888423e-05,  9.49213209e-05, -9.89331420e-06,\n",
      "       -2.62491922e-05,  1.93470305e-06,  4.64649493e-05,  4.49017898e-05,\n",
      "       -9.64067294e-06, -1.90847345e-06, -6.68282382e-06, -2.55975501e-05,\n",
      "        6.47063007e-06, -6.71918897e-05, -5.37929081e-05, -1.29173801e-04,\n",
      "       -3.41118430e-05, -1.14125041e-05,  3.11414296e-05,  2.17687266e-05,\n",
      "       -3.33869211e-05,  2.66314032e-06,  9.35985590e-05, -1.53884284e-05,\n",
      "        1.41873006e-05, -1.29671389e-05,  4.14280548e-05, -1.97855570e-05,\n",
      "        2.37810600e-05,  7.94920925e-05, -6.69296278e-05, -1.08923523e-05,\n",
      "        3.31758310e-05,  2.23122720e-06,  5.87584509e-06,  5.50770619e-06,\n",
      "       -9.34947748e-05,  1.27375111e-04,  8.43421003e-06,  7.12780675e-05,\n",
      "        9.13100448e-05, -4.81383859e-06,  2.82329238e-05, -1.89144866e-05,\n",
      "        1.79415406e-06,  3.02945082e-05,  4.01782490e-05, -6.78367287e-05,\n",
      "       -1.79233211e-06,  3.74317970e-05, -5.93029290e-05, -4.21399054e-05,\n",
      "        4.31265071e-05,  3.07489536e-05, -3.57025820e-05, -5.65080118e-05,\n",
      "       -2.94497477e-05, -1.50296864e-06, -2.21323899e-05, -5.40966248e-05,\n",
      "        4.08993619e-05,  2.48731631e-05,  4.88586084e-05, -4.09281529e-05,\n",
      "       -9.66512132e-03, -3.75689790e-02,  1.34187406e-02, -6.80076610e-03,\n",
      "        3.46257985e-02,  2.52764896e-02,  1.70506276e-02,  5.62226102e-02,\n",
      "        2.37597376e-02, -2.88130678e-02, -1.52371190e-02,  3.10913194e-02,\n",
      "        2.51193019e-03, -2.25066878e-02, -6.96610659e-03, -3.42756249e-02,\n",
      "        7.32530607e-03,  4.48028892e-02,  5.39539084e-02, -1.25069004e-02,\n",
      "       -8.32402427e-03, -6.15006462e-02, -2.43741162e-02, -4.73157736e-04,\n",
      "        2.22168602e-02, -1.00824051e-02, -2.39821151e-02,  4.01410274e-02,\n",
      "        1.55378021e-02, -3.71290445e-02,  1.72285885e-02, -2.67553385e-02,\n",
      "       -4.60298508e-02, -2.00278070e-02, -8.10461305e-03, -2.79468335e-02,\n",
      "       -1.54535780e-02, -2.27873735e-02, -6.93714106e-03,  5.51291648e-03,\n",
      "        1.49757434e-02, -4.77495193e-02, -3.31689902e-02, -4.94682379e-02,\n",
      "       -1.81040149e-02,  3.19915786e-02,  3.98289561e-02,  4.08939086e-04,\n",
      "        5.83610777e-03,  1.90224661e-03,  4.75770701e-03, -1.07501820e-02,\n",
      "       -3.42113003e-02, -1.78050250e-02,  1.84057131e-02, -1.59973130e-02,\n",
      "       -2.63683498e-02,  3.62395197e-02,  1.65280439e-02, -2.24014502e-02,\n",
      "        3.27640846e-02, -7.54104881e-03, -1.17506199e-02,  1.62027515e-02,\n",
      "       -1.04652196e-02, -1.04724523e-02, -2.69175991e-02,  2.66819559e-02,\n",
      "       -4.40296438e-03, -6.74975151e-03, -3.02788261e-02, -3.60012287e-04,\n",
      "        2.56927852e-02,  6.73223846e-03, -2.01515071e-02, -2.40358617e-03,\n",
      "        2.74614827e-03, -1.57524478e-02,  3.51582617e-02,  4.97504063e-02,\n",
      "        1.55861990e-03,  1.17658935e-02,  7.25383963e-03,  4.54019867e-02,\n",
      "       -4.26260866e-02, -8.91392492e-03, -1.69557892e-02, -4.25121114e-02,\n",
      "        7.50814658e-03,  1.45440912e-02, -1.25392247e-02, -2.64287135e-03,\n",
      "        5.59278056e-02, -4.62419651e-02, -3.15372460e-02, -6.02951320e-03,\n",
      "       -1.51885422e-02, -1.73901506e-02, -6.07166998e-03,  2.38088891e-02,\n",
      "        5.37546650e-02,  4.04279232e-02, -1.41317379e-02, -3.21869031e-02,\n",
      "        4.29156385e-02, -1.78331509e-02,  2.74756197e-02, -2.69596241e-02,\n",
      "        2.38166638e-02,  3.49521227e-02,  1.63247958e-02, -2.77676843e-02,\n",
      "        1.61040798e-02,  1.07104741e-02, -1.04426937e-02,  2.69872583e-02,\n",
      "        2.53987871e-02,  3.05031054e-02, -1.29883690e-02, -1.15443785e-02,\n",
      "        1.30638340e-03, -1.13948053e-02,  5.84262982e-03, -9.87837557e-03,\n",
      "        2.67386697e-02, -1.59776080e-02, -5.90327429e-03, -3.77731249e-02,\n",
      "        1.70886669e-05,  5.13482428e-06,  2.26906523e-05, -1.14531231e-05,\n",
      "        1.47076680e-05, -1.70833537e-05, -1.15425046e-05,  7.04761333e-05,\n",
      "       -6.29333081e-05,  1.04071496e-05,  3.42967905e-05, -1.80766438e-05,\n",
      "       -2.81211123e-06,  3.83394690e-05,  3.78326604e-06,  4.03245031e-05,\n",
      "       -1.21486173e-05, -4.51195847e-05, -9.45482861e-06,  1.37753541e-05,\n",
      "        1.75559708e-05, -1.09635395e-04, -9.31453815e-06, -1.04417322e-05,\n",
      "        7.08983862e-06, -2.23475399e-05, -1.61081043e-05,  3.32307718e-05,\n",
      "        2.11061360e-05,  1.63023669e-05,  4.99934322e-05,  3.34196848e-05,\n",
      "        3.31272058e-05, -3.86965730e-05, -1.52539360e-05,  7.11736902e-06,\n",
      "        2.07232788e-05, -2.29586676e-05,  2.01207731e-05,  4.69336146e-06,\n",
      "       -1.80340539e-05,  1.93595843e-05, -1.64448247e-05,  2.60191082e-05,\n",
      "        3.46646339e-05, -5.36641164e-06,  1.18957332e-05,  1.50428286e-05,\n",
      "       -1.04993260e-05,  1.36551607e-05,  1.90587762e-05,  2.13406929e-06,\n",
      "        1.22793363e-05,  6.10806237e-05,  6.54257965e-05, -7.43486271e-06,\n",
      "        4.78509137e-05,  2.35283242e-05,  8.21409958e-06, -1.83356606e-05,\n",
      "        4.75562556e-05,  1.11277550e-05,  2.96247617e-06, -4.51620290e-05,\n",
      "       -1.43943498e-06, -4.40003278e-05,  1.03459606e-04, -2.67505438e-05,\n",
      "       -2.70448309e-05, -6.22535572e-06,  3.15264806e-05,  5.10331593e-05,\n",
      "        3.76343905e-07,  8.83144821e-06,  8.55390681e-07, -2.67974319e-05,\n",
      "        1.50939468e-06, -6.96088318e-05, -1.18923344e-05, -1.10966364e-04,\n",
      "        1.91762520e-05, -5.72873432e-07,  3.38684658e-05,  3.56924720e-05,\n",
      "       -4.69073238e-05,  1.88565355e-06,  7.71497944e-05, -8.34073398e-06,\n",
      "        3.85069143e-06, -2.16072549e-05,  4.16819676e-05, -3.41139594e-06,\n",
      "        2.56133480e-05,  4.81577226e-05, -3.96443647e-05, -1.60032214e-05,\n",
      "        3.07217124e-06,  1.36593771e-05,  1.23158734e-05,  4.08379492e-07,\n",
      "       -8.59102947e-05,  9.18450969e-05, -9.01903331e-06,  4.68067046e-05,\n",
      "        5.78917025e-05,  1.59818683e-07,  2.73091973e-05, -1.74497000e-05,\n",
      "       -2.90901653e-06,  2.56877465e-05,  2.84412126e-05, -4.40510339e-05,\n",
      "       -1.02631730e-05,  4.58803624e-05, -4.12652444e-05, -1.99451424e-05,\n",
      "        5.16222135e-05,  2.96232083e-05, -4.61369818e-05, -3.77737670e-05,\n",
      "       -9.40583050e-06, -8.11582368e-07, -5.48590060e-06, -3.84279920e-05,\n",
      "        3.21526022e-05, -3.36268749e-06,  1.42685722e-05, -1.96247456e-05],\n",
      "      dtype=float32)>, <tf.Tensor: shape=(128, 10000), dtype=float32, numpy=\n",
      "array([[-1.9273772e-03, -2.5356461e-03, -2.6729847e-03, ...,\n",
      "         4.4780336e-06,  4.4752824e-06,  4.4733151e-06],\n",
      "       [ 7.7983993e-04,  1.0521330e-03,  1.7926084e-03, ...,\n",
      "        -1.4022448e-06, -1.4001640e-06, -1.3984729e-06],\n",
      "       [ 2.0375548e-04,  1.3198873e-03,  1.2511740e-03, ...,\n",
      "         3.2958292e-07,  3.2967773e-07,  3.2963874e-07],\n",
      "       ...,\n",
      "       [ 1.1731666e-03,  2.1087069e-03,  1.9978681e-03, ...,\n",
      "        -2.9688649e-06, -2.9666012e-06, -2.9651924e-06],\n",
      "       [ 2.1811510e-03,  1.6409637e-03,  2.2786446e-03, ...,\n",
      "        -4.9626842e-06, -4.9581377e-06, -4.9596310e-06],\n",
      "       [-6.7790854e-04, -7.2357216e-04, -1.1743152e-03, ...,\n",
      "         1.5217449e-06,  1.5227906e-06,  1.5224693e-06]], dtype=float32)>, <tf.Tensor: shape=(10000,), dtype=float32, numpy=\n",
      "array([-0.79799855, -1.0313318 , -1.0313317 , ...,  0.00200069,\n",
      "        0.00199974,  0.00199951], dtype=float32)>]\n"
     ]
    }
   ],
   "source": [
    "print(grad_t_list)"
   ]
  },
  {
   "cell_type": "markdown",
   "metadata": {
    "button": false,
    "new_sheet": false,
    "run_control": {
     "read_only": false
    }
   },
   "source": [
    "now, we have a list of tensors, t-list. We can use it to find clipped tensors. <b>clip_by_global_norm</b> clips values of multiple tensors by the ratio of the sum of their norms.\n",
    "\n",
    "<b>clip_by_global_norm</b> get <i>t-list</i> as input and returns 2 things:\n",
    "\n",
    "<ul>\n",
    "    <li>a list of clipped tensors, so called <i>list_clipped</i></li> \n",
    "    <li>the global norm (global_norm) of all tensors in t_list</li> \n",
    "</ul>\n"
   ]
  },
  {
   "cell_type": "code",
   "execution_count": 49,
   "metadata": {},
   "outputs": [
    {
     "data": {
      "text/plain": [
       "[<tensorflow.python.framework.indexed_slices.IndexedSlices at 0x7ff228fda4a8>,\n",
       " <tf.Tensor: shape=(200, 1024), dtype=float32, numpy=\n",
       " array([[-9.39314191e-08,  2.62118022e-07, -3.99022781e-07, ...,\n",
       "         -2.48419951e-07,  5.21874483e-07, -1.68560703e-07],\n",
       "        [ 1.13425955e-07, -1.70980243e-07,  1.54684813e-07, ...,\n",
       "          1.61430336e-07, -5.22659604e-08,  5.66139306e-07],\n",
       "        [ 4.30963070e-08,  2.13918980e-07, -1.46882257e-07, ...,\n",
       "         -5.84859094e-07,  2.96175187e-07, -1.61100814e-07],\n",
       "        ...,\n",
       "        [-9.76822093e-07,  2.22257086e-07, -1.46845068e-07, ...,\n",
       "          3.61423730e-07, -4.99318276e-07, -7.47364268e-08],\n",
       "        [-1.16097695e-07,  4.15904083e-07, -3.27089651e-07, ...,\n",
       "         -3.50854350e-07,  3.03685766e-07, -5.05347586e-08],\n",
       "        [-3.57992718e-07,  9.42649535e-07,  1.40660106e-07, ...,\n",
       "          3.25470324e-07, -5.57919236e-07, -3.91415767e-07]], dtype=float32)>,\n",
       " <tf.Tensor: shape=(256, 1024), dtype=float32, numpy=\n",
       " array([[ 7.98965019e-08,  1.58967790e-08, -7.49877529e-08, ...,\n",
       "          6.84165684e-08, -1.21433544e-07,  7.81137146e-08],\n",
       "        [-8.86906832e-08, -1.10466630e-07,  7.04751528e-08, ...,\n",
       "         -1.99911625e-07,  6.77330405e-08, -1.92892955e-07],\n",
       "        [-9.15558118e-09,  3.82600618e-08,  1.20353576e-07, ...,\n",
       "          2.43176430e-08,  4.96726145e-08,  4.28196039e-08],\n",
       "        ...,\n",
       "        [-4.49938824e-08,  1.30310589e-08,  9.22934902e-08, ...,\n",
       "          3.21845235e-08, -1.69227633e-07,  9.51203489e-08],\n",
       "        [ 7.04459424e-08,  2.93812370e-08,  1.07168496e-09, ...,\n",
       "         -6.06118977e-09, -2.75237625e-07,  1.19298690e-07],\n",
       "        [-1.73741483e-08,  6.49279954e-08, -8.50519566e-09, ...,\n",
       "          1.08912644e-07,  4.46051942e-08, -4.33495018e-07]], dtype=float32)>,\n",
       " <tf.Tensor: shape=(1024,), dtype=float32, numpy=\n",
       " array([-2.8998249e-05, -1.9598108e-06,  8.0140017e-06, ...,\n",
       "         3.9900083e-06, -1.6015269e-05,  3.9588092e-05], dtype=float32)>,\n",
       " <tf.Tensor: shape=(256, 512), dtype=float32, numpy=\n",
       " array([[ 1.07412248e-07, -3.30059436e-07, -1.80022795e-07, ...,\n",
       "          8.21527095e-08, -1.09675639e-07,  9.59499928e-08],\n",
       "        [ 4.28997922e-08,  8.26928712e-08,  2.25380589e-07, ...,\n",
       "         -2.93380964e-09,  2.04668424e-07, -1.43817886e-07],\n",
       "        [ 2.24440768e-08, -3.59755390e-08,  7.14154140e-08, ...,\n",
       "         -5.87878333e-08,  8.66929923e-08, -1.14178292e-07],\n",
       "        ...,\n",
       "        [-6.75486334e-09,  1.37098880e-07,  8.06085438e-08, ...,\n",
       "         -1.13691556e-07, -3.24695293e-09,  1.87508959e-08],\n",
       "        [-4.53940068e-08,  1.36184866e-07, -1.92692454e-07, ...,\n",
       "         -9.06506585e-08,  6.51697150e-08, -4.58047467e-08],\n",
       "        [ 1.46811686e-07,  2.70475287e-09,  1.03754651e-07, ...,\n",
       "          4.62470915e-08, -2.36661464e-07,  4.70381138e-08]], dtype=float32)>,\n",
       " <tf.Tensor: shape=(128, 512), dtype=float32, numpy=\n",
       " array([[ 9.85046711e-10,  8.17538819e-08,  1.04590896e-07, ...,\n",
       "         -1.05094486e-07,  4.23681357e-08,  3.65359014e-08],\n",
       "        [ 2.42587070e-08, -3.90157766e-07, -6.78470471e-08, ...,\n",
       "          1.93626462e-07, -4.81517048e-09,  3.09494865e-08],\n",
       "        [-9.58739719e-08, -1.86320975e-07,  8.01645541e-08, ...,\n",
       "         -8.43542658e-09,  1.81978628e-08,  1.01435731e-08],\n",
       "        ...,\n",
       "        [ 4.99749930e-08,  1.11503262e-07,  1.22629871e-08, ...,\n",
       "         -1.08501908e-07, -2.25032750e-07,  1.77517592e-08],\n",
       "        [-6.72783500e-08,  3.97687785e-08,  3.15509086e-09, ...,\n",
       "         -1.10753049e-07,  2.18638718e-07,  1.93114680e-08],\n",
       "        [ 8.68868000e-09,  2.15948646e-08,  7.59205605e-08, ...,\n",
       "         -8.54896385e-08,  1.21629313e-07, -2.51341959e-07]], dtype=float32)>,\n",
       " <tf.Tensor: shape=(512,), dtype=float32, numpy=\n",
       " array([ 1.39749627e-05, -3.76882349e-06,  8.96398888e-06, -1.31743700e-05,\n",
       "         1.67521976e-05, -1.29416094e-05, -9.15647342e-06,  6.39345380e-05,\n",
       "        -5.72630124e-05,  1.29130940e-05,  3.40937440e-05, -1.56891729e-05,\n",
       "         1.15284092e-06,  3.66118584e-05,  1.46139810e-05,  3.08492599e-05,\n",
       "        -2.05330562e-05, -4.19020544e-05, -1.96311667e-05,  1.78033170e-05,\n",
       "         1.70075546e-05, -9.97651077e-05, -1.38879277e-05, -8.06759545e-06,\n",
       "         1.09022403e-06, -1.05984691e-05, -1.59339543e-05,  2.94251822e-05,\n",
       "         1.79913131e-05,  1.95829907e-05,  5.11334838e-05,  1.95937464e-05,\n",
       "         3.57616336e-05, -3.34189244e-05, -1.90152241e-05,  5.40697738e-06,\n",
       "         1.83098018e-05, -1.17980053e-05,  1.32391224e-05,  1.51734844e-06,\n",
       "        -1.91368599e-05,  1.15582225e-05, -1.84029741e-05,  2.25827698e-05,\n",
       "         3.42044223e-05, -1.00754696e-05,  7.63879871e-06,  1.04035926e-05,\n",
       "        -1.50632459e-05,  1.51706327e-05,  2.21430146e-05,  7.72670865e-06,\n",
       "         4.34368849e-06,  5.23488889e-05,  6.08974951e-05, -4.02940714e-07,\n",
       "         3.31097108e-05,  2.30250880e-05,  6.54881842e-06, -2.01052680e-05,\n",
       "         4.57243586e-05,  8.29866076e-06,  3.46971774e-06, -4.32161833e-05,\n",
       "         3.15939769e-06, -3.70519119e-05,  8.34364473e-05, -2.73426595e-05,\n",
       "        -2.48684919e-05, -1.50828919e-06,  3.35961959e-05,  4.35807378e-05,\n",
       "         8.95316771e-06,  1.17515665e-05,  7.48318143e-06, -2.64554674e-05,\n",
       "        -4.32827619e-06, -7.13142872e-05, -9.53448944e-06, -1.05250321e-04,\n",
       "         1.06909674e-05,  1.70861040e-06,  2.88661286e-05,  3.43101674e-05,\n",
       "        -4.64842342e-05, -4.73361888e-06,  6.07189249e-05, -8.95330868e-06,\n",
       "         4.20785318e-06, -1.90115861e-05,  3.15138386e-05, -1.31530360e-05,\n",
       "         2.64375340e-05,  4.38430252e-05, -4.04711463e-05, -1.36792860e-05,\n",
       "         3.56617420e-07,  6.96728512e-06,  6.54137511e-06, -1.14838385e-05,\n",
       "        -7.29575986e-05,  8.30887584e-05, -9.98333599e-06,  4.17117517e-05,\n",
       "         4.93591506e-05,  3.73144394e-06,  2.38304310e-05, -8.15739986e-06,\n",
       "         2.08518941e-07,  2.06426157e-05,  2.32165530e-05, -3.96405376e-05,\n",
       "        -7.28961913e-06,  2.96934886e-05, -3.21085317e-05, -1.30288645e-05,\n",
       "         4.43730387e-05,  3.05496069e-05, -4.04220664e-05, -2.96220460e-05,\n",
       "        -1.57685608e-05,  1.26957309e-06, -1.04261107e-06, -4.15513277e-05,\n",
       "         3.40642328e-05, -7.22126060e-07,  1.92787520e-05, -1.08884042e-05,\n",
       "         2.23408460e-06, -1.22098827e-05,  1.39983404e-05, -1.77484435e-05,\n",
       "         3.82240432e-05,  4.79758774e-06, -4.96365465e-06,  7.10162567e-05,\n",
       "        -4.89053491e-05,  1.32663017e-05,  1.37246243e-05, -2.15825949e-05,\n",
       "         3.15386133e-05,  4.94843334e-05, -3.91034009e-05,  4.36966584e-05,\n",
       "        -1.77625261e-05, -6.67449931e-05, -1.86241741e-05,  4.07740881e-05,\n",
       "         3.71136557e-05, -1.41147262e-04, -1.94152799e-05, -2.57972442e-06,\n",
       "        -1.54910176e-05, -4.57787282e-05, -3.05550057e-05,  4.20012366e-05,\n",
       "         4.61966993e-05,  2.38661742e-05,  5.18523739e-05,  5.63785870e-05,\n",
       "         3.13509699e-05, -7.84225340e-05, -2.76612609e-05,  6.67077529e-06,\n",
       "         2.82039418e-05, -6.46019616e-05,  8.43068847e-07, -6.16015404e-06,\n",
       "        -4.05861865e-05,  3.68804103e-06, -1.05780036e-05,  2.32997954e-05,\n",
       "         4.34155481e-05, -2.32484999e-05,  3.63036816e-05,  4.62768221e-05,\n",
       "        -1.20214136e-05, -2.23178831e-05,  2.70081346e-05, -1.49162870e-05,\n",
       "         1.86532852e-05,  7.23241974e-05,  5.32182494e-05,  2.38033681e-05,\n",
       "         5.07544755e-05,  2.51493966e-05,  3.70195266e-07, -1.40396123e-05,\n",
       "         1.16999829e-04,  3.45469525e-05, -1.21027888e-05, -4.41470693e-05,\n",
       "        -3.19513529e-05, -6.44888423e-05,  9.49213209e-05, -9.89331420e-06,\n",
       "        -2.62491922e-05,  1.93470305e-06,  4.64649493e-05,  4.49017898e-05,\n",
       "        -9.64067294e-06, -1.90847345e-06, -6.68282382e-06, -2.55975501e-05,\n",
       "         6.47063007e-06, -6.71918897e-05, -5.37929081e-05, -1.29173801e-04,\n",
       "        -3.41118430e-05, -1.14125041e-05,  3.11414296e-05,  2.17687266e-05,\n",
       "        -3.33869211e-05,  2.66314032e-06,  9.35985590e-05, -1.53884284e-05,\n",
       "         1.41873006e-05, -1.29671389e-05,  4.14280548e-05, -1.97855570e-05,\n",
       "         2.37810600e-05,  7.94920925e-05, -6.69296278e-05, -1.08923523e-05,\n",
       "         3.31758310e-05,  2.23122720e-06,  5.87584509e-06,  5.50770619e-06,\n",
       "        -9.34947748e-05,  1.27375111e-04,  8.43421003e-06,  7.12780675e-05,\n",
       "         9.13100448e-05, -4.81383859e-06,  2.82329238e-05, -1.89144866e-05,\n",
       "         1.79415406e-06,  3.02945082e-05,  4.01782490e-05, -6.78367287e-05,\n",
       "        -1.79233211e-06,  3.74317970e-05, -5.93029290e-05, -4.21399054e-05,\n",
       "         4.31265071e-05,  3.07489536e-05, -3.57025820e-05, -5.65080118e-05,\n",
       "        -2.94497477e-05, -1.50296864e-06, -2.21323899e-05, -5.40966248e-05,\n",
       "         4.08993619e-05,  2.48731631e-05,  4.88586084e-05, -4.09281529e-05,\n",
       "        -9.66512132e-03, -3.75689790e-02,  1.34187406e-02, -6.80076610e-03,\n",
       "         3.46257985e-02,  2.52764896e-02,  1.70506276e-02,  5.62226102e-02,\n",
       "         2.37597376e-02, -2.88130678e-02, -1.52371190e-02,  3.10913194e-02,\n",
       "         2.51193019e-03, -2.25066878e-02, -6.96610659e-03, -3.42756249e-02,\n",
       "         7.32530607e-03,  4.48028892e-02,  5.39539084e-02, -1.25069004e-02,\n",
       "        -8.32402427e-03, -6.15006462e-02, -2.43741162e-02, -4.73157736e-04,\n",
       "         2.22168602e-02, -1.00824051e-02, -2.39821151e-02,  4.01410274e-02,\n",
       "         1.55378021e-02, -3.71290445e-02,  1.72285885e-02, -2.67553385e-02,\n",
       "        -4.60298508e-02, -2.00278070e-02, -8.10461305e-03, -2.79468335e-02,\n",
       "        -1.54535780e-02, -2.27873735e-02, -6.93714106e-03,  5.51291648e-03,\n",
       "         1.49757434e-02, -4.77495193e-02, -3.31689902e-02, -4.94682379e-02,\n",
       "        -1.81040149e-02,  3.19915786e-02,  3.98289561e-02,  4.08939086e-04,\n",
       "         5.83610777e-03,  1.90224661e-03,  4.75770701e-03, -1.07501820e-02,\n",
       "        -3.42113003e-02, -1.78050250e-02,  1.84057131e-02, -1.59973130e-02,\n",
       "        -2.63683498e-02,  3.62395197e-02,  1.65280439e-02, -2.24014502e-02,\n",
       "         3.27640846e-02, -7.54104881e-03, -1.17506199e-02,  1.62027515e-02,\n",
       "        -1.04652196e-02, -1.04724523e-02, -2.69175991e-02,  2.66819559e-02,\n",
       "        -4.40296438e-03, -6.74975151e-03, -3.02788261e-02, -3.60012287e-04,\n",
       "         2.56927852e-02,  6.73223846e-03, -2.01515071e-02, -2.40358617e-03,\n",
       "         2.74614827e-03, -1.57524478e-02,  3.51582617e-02,  4.97504063e-02,\n",
       "         1.55861990e-03,  1.17658935e-02,  7.25383963e-03,  4.54019867e-02,\n",
       "        -4.26260866e-02, -8.91392492e-03, -1.69557892e-02, -4.25121114e-02,\n",
       "         7.50814658e-03,  1.45440912e-02, -1.25392247e-02, -2.64287135e-03,\n",
       "         5.59278056e-02, -4.62419651e-02, -3.15372460e-02, -6.02951320e-03,\n",
       "        -1.51885422e-02, -1.73901506e-02, -6.07166998e-03,  2.38088891e-02,\n",
       "         5.37546650e-02,  4.04279232e-02, -1.41317379e-02, -3.21869031e-02,\n",
       "         4.29156385e-02, -1.78331509e-02,  2.74756197e-02, -2.69596241e-02,\n",
       "         2.38166638e-02,  3.49521227e-02,  1.63247958e-02, -2.77676843e-02,\n",
       "         1.61040798e-02,  1.07104741e-02, -1.04426937e-02,  2.69872583e-02,\n",
       "         2.53987871e-02,  3.05031054e-02, -1.29883690e-02, -1.15443785e-02,\n",
       "         1.30638340e-03, -1.13948053e-02,  5.84262982e-03, -9.87837557e-03,\n",
       "         2.67386697e-02, -1.59776080e-02, -5.90327429e-03, -3.77731249e-02,\n",
       "         1.70886669e-05,  5.13482428e-06,  2.26906523e-05, -1.14531231e-05,\n",
       "         1.47076680e-05, -1.70833537e-05, -1.15425046e-05,  7.04761333e-05,\n",
       "        -6.29333081e-05,  1.04071496e-05,  3.42967905e-05, -1.80766438e-05,\n",
       "        -2.81211123e-06,  3.83394690e-05,  3.78326604e-06,  4.03245031e-05,\n",
       "        -1.21486173e-05, -4.51195847e-05, -9.45482861e-06,  1.37753541e-05,\n",
       "         1.75559708e-05, -1.09635395e-04, -9.31453815e-06, -1.04417322e-05,\n",
       "         7.08983862e-06, -2.23475399e-05, -1.61081043e-05,  3.32307718e-05,\n",
       "         2.11061360e-05,  1.63023669e-05,  4.99934322e-05,  3.34196848e-05,\n",
       "         3.31272058e-05, -3.86965730e-05, -1.52539360e-05,  7.11736902e-06,\n",
       "         2.07232788e-05, -2.29586676e-05,  2.01207731e-05,  4.69336146e-06,\n",
       "        -1.80340539e-05,  1.93595843e-05, -1.64448247e-05,  2.60191082e-05,\n",
       "         3.46646339e-05, -5.36641164e-06,  1.18957332e-05,  1.50428286e-05,\n",
       "        -1.04993260e-05,  1.36551607e-05,  1.90587762e-05,  2.13406929e-06,\n",
       "         1.22793363e-05,  6.10806237e-05,  6.54257965e-05, -7.43486271e-06,\n",
       "         4.78509137e-05,  2.35283242e-05,  8.21409958e-06, -1.83356606e-05,\n",
       "         4.75562556e-05,  1.11277550e-05,  2.96247617e-06, -4.51620290e-05,\n",
       "        -1.43943498e-06, -4.40003278e-05,  1.03459606e-04, -2.67505438e-05,\n",
       "        -2.70448309e-05, -6.22535572e-06,  3.15264806e-05,  5.10331593e-05,\n",
       "         3.76343905e-07,  8.83144821e-06,  8.55390681e-07, -2.67974319e-05,\n",
       "         1.50939468e-06, -6.96088318e-05, -1.18923344e-05, -1.10966364e-04,\n",
       "         1.91762520e-05, -5.72873432e-07,  3.38684658e-05,  3.56924720e-05,\n",
       "        -4.69073238e-05,  1.88565355e-06,  7.71497944e-05, -8.34073398e-06,\n",
       "         3.85069143e-06, -2.16072549e-05,  4.16819676e-05, -3.41139594e-06,\n",
       "         2.56133480e-05,  4.81577226e-05, -3.96443647e-05, -1.60032214e-05,\n",
       "         3.07217124e-06,  1.36593771e-05,  1.23158734e-05,  4.08379492e-07,\n",
       "        -8.59102947e-05,  9.18450969e-05, -9.01903331e-06,  4.68067046e-05,\n",
       "         5.78917025e-05,  1.59818683e-07,  2.73091973e-05, -1.74497000e-05,\n",
       "        -2.90901653e-06,  2.56877465e-05,  2.84412126e-05, -4.40510339e-05,\n",
       "        -1.02631730e-05,  4.58803624e-05, -4.12652444e-05, -1.99451424e-05,\n",
       "         5.16222135e-05,  2.96232083e-05, -4.61369818e-05, -3.77737670e-05,\n",
       "        -9.40583050e-06, -8.11582368e-07, -5.48590060e-06, -3.84279920e-05,\n",
       "         3.21526022e-05, -3.36268749e-06,  1.42685722e-05, -1.96247456e-05],\n",
       "       dtype=float32)>,\n",
       " <tf.Tensor: shape=(128, 10000), dtype=float32, numpy=\n",
       " array([[-1.9273772e-03, -2.5356461e-03, -2.6729847e-03, ...,\n",
       "          4.4780336e-06,  4.4752824e-06,  4.4733151e-06],\n",
       "        [ 7.7983993e-04,  1.0521330e-03,  1.7926084e-03, ...,\n",
       "         -1.4022448e-06, -1.4001640e-06, -1.3984729e-06],\n",
       "        [ 2.0375548e-04,  1.3198873e-03,  1.2511740e-03, ...,\n",
       "          3.2958292e-07,  3.2967773e-07,  3.2963874e-07],\n",
       "        ...,\n",
       "        [ 1.1731666e-03,  2.1087069e-03,  1.9978681e-03, ...,\n",
       "         -2.9688649e-06, -2.9666012e-06, -2.9651924e-06],\n",
       "        [ 2.1811510e-03,  1.6409637e-03,  2.2786446e-03, ...,\n",
       "         -4.9626842e-06, -4.9581377e-06, -4.9596310e-06],\n",
       "        [-6.7790854e-04, -7.2357216e-04, -1.1743152e-03, ...,\n",
       "          1.5217449e-06,  1.5227906e-06,  1.5224693e-06]], dtype=float32)>,\n",
       " <tf.Tensor: shape=(10000,), dtype=float32, numpy=\n",
       " array([-0.79799855, -1.0313318 , -1.0313317 , ...,  0.00200069,\n",
       "         0.00199974,  0.00199951], dtype=float32)>]"
      ]
     },
     "execution_count": 49,
     "metadata": {},
     "output_type": "execute_result"
    }
   ],
   "source": [
    "# Define the gradient clipping threshold\n",
    "grads, _ = tf.clip_by_global_norm(grad_t_list, max_grad_norm)\n",
    "grads"
   ]
  },
  {
   "cell_type": "markdown",
   "metadata": {},
   "source": [
    "<h4> 4.Apply the optimizer to the variables/gradients tuple. </h4>\n"
   ]
  },
  {
   "cell_type": "code",
   "execution_count": 50,
   "metadata": {},
   "outputs": [],
   "source": [
    "# Create the training TensorFlow Operation through our optimizer\n",
    "train_op = optimizer.apply_gradients(zip(grads, tvars))"
   ]
  },
  {
   "cell_type": "markdown",
   "metadata": {},
   "source": [
    "<a id=\"ltsm\"></a>\n",
    "\n",
    "<h2>LSTM</h2>\n"
   ]
  },
  {
   "cell_type": "markdown",
   "metadata": {
    "button": false,
    "deletable": true,
    "new_sheet": false,
    "run_control": {
     "read_only": false
    }
   },
   "source": [
    "We learned how the model is build step by step. Noe, let's then create a Class that represents our model. This class needs a few things:\n",
    "\n",
    "<ul>\n",
    "    <li>We have to create the model in accordance with our defined hyperparameters</li>\n",
    "    <li>We have to create the LSTM cell structure and connect them with our RNN structure</li>\n",
    "    <li>We have to create the word embeddings and point them to the input data</li>\n",
    "    <li>We have to create the input structure for our RNN</li>\n",
    "    <li>We need to create a logistic structure to return the probability of our words</li>\n",
    "    <li>We need to create the loss and cost functions for our optimizer to work, and then create the optimizer</li>\n",
    "    <li>And finally, we need to create a training operation that can be run to actually train our model</li>\n",
    "</ul>\n"
   ]
  },
  {
   "cell_type": "code",
   "execution_count": 51,
   "metadata": {
    "button": false,
    "deletable": true,
    "new_sheet": false,
    "run_control": {
     "read_only": false
    },
    "tags": []
   },
   "outputs": [],
   "source": [
    "class PTBModel(object):\n",
    "\n",
    "\n",
    "    def __init__(self):\n",
    "        ######################################\n",
    "        # Setting parameters for ease of use #\n",
    "        ######################################\n",
    "        self.batch_size = batch_size\n",
    "        self.num_steps = num_steps\n",
    "        self.hidden_size_l1 = hidden_size_l1\n",
    "        self.hidden_size_l2 = hidden_size_l2\n",
    "        self.vocab_size = vocab_size\n",
    "        self.embeding_vector_size = embeding_vector_size\n",
    "        # Create a variable for the learning rate\n",
    "        self._lr = 1.0\n",
    "        \n",
    "        ###############################################################################\n",
    "        # Initializing the model using keras Sequential API  #\n",
    "        ###############################################################################\n",
    "        \n",
    "        self._model = tf.keras.models.Sequential()\n",
    "        \n",
    "        ####################################################################\n",
    "        # Creating the word embeddings layer and adding it to the sequence #\n",
    "        ####################################################################\n",
    "        with tf.device(\"/cpu:0\"):\n",
    "            # Create the embeddings for our input data. Size is hidden size.\n",
    "            self._embedding_layer = tf.keras.layers.Embedding(self.vocab_size, self.embeding_vector_size,batch_input_shape=(self.batch_size, self.num_steps),trainable=True,name=\"embedding_vocab\")  #[10000x200]\n",
    "            self._model.add(self._embedding_layer)\n",
    "            \n",
    "\n",
    "        ##########################################################################\n",
    "        # Creating the LSTM cell structure and connect it with the RNN structure #\n",
    "        ##########################################################################\n",
    "        # Create the LSTM Cells. \n",
    "        # This creates only the structure for the LSTM and has to be associated with a RNN unit still.\n",
    "        # The argument  of LSTMCell is size of hidden layer, that is, the number of hidden units of the LSTM (inside A). \n",
    "        # LSTM cell processes one word at a time and computes probabilities of the possible continuations of the sentence.\n",
    "        lstm_cell_l1 = tf.keras.layers.LSTMCell(hidden_size_l1)\n",
    "        lstm_cell_l2 = tf.keras.layers.LSTMCell(hidden_size_l2)\n",
    "        \n",
    "\n",
    "        \n",
    "        # By taking in the LSTM cells as parameters, the StackedRNNCells function junctions the LSTM units to the RNN units.\n",
    "        # RNN cell composed sequentially of stacked simple cells.\n",
    "        stacked_lstm = tf.keras.layers.StackedRNNCells([lstm_cell_l1, lstm_cell_l2])\n",
    "\n",
    "\n",
    "        \n",
    "\n",
    "        ############################################\n",
    "        # Creating the input structure for our RNN #\n",
    "        ############################################\n",
    "        # Input structure is 20x[30x200]\n",
    "        # Considering each word is represended by a 200 dimentional vector, and we have 30 batchs, we create 30 word-vectors of size [30xx2000]\n",
    "        # The input structure is fed from the embeddings, which are filled in by the input data\n",
    "        # Feeding a batch of b sentences to a RNN:\n",
    "        # In step 1,  first word of each of the b sentences (in a batch) is input in parallel.  \n",
    "        # In step 2,  second word of each of the b sentences is input in parallel. \n",
    "        # The parallelism is only for efficiency.  \n",
    "        # Each sentence in a batch is handled in parallel, but the network sees one word of a sentence at a time and does the computations accordingly. \n",
    "        # All the computations involving the words of all sentences in a batch at a given time step are done in parallel. \n",
    "\n",
    "        ########################################################################################################\n",
    "        # Instantiating our RNN model and setting stateful to True to feed forward the state to the next layer #\n",
    "        ########################################################################################################\n",
    "        \n",
    "        self._RNNlayer  =  tf.keras.layers.RNN(stacked_lstm,[batch_size, num_steps],return_state=False,stateful=True,trainable=True)\n",
    "        \n",
    "        # Define the initial state, i.e., the model state for the very first data point\n",
    "        # It initialize the state of the LSTM memory. The memory state of the network is initialized with a vector of zeros and gets updated after reading each word.\n",
    "        self._initial_state = tf.Variable(tf.zeros([batch_size,embeding_vector_size]),trainable=False)\n",
    "        self._RNNlayer.inital_state = self._initial_state\n",
    "    \n",
    "        ############################################\n",
    "        # Adding RNN layer to keras sequential API #\n",
    "        ############################################        \n",
    "        self._model.add(self._RNNlayer)\n",
    "        \n",
    "        #self._model.add(tf.keras.layers.LSTM(hidden_size_l1,return_sequences=True,stateful=True))\n",
    "        #self._model.add(tf.keras.layers.LSTM(hidden_size_l2,return_sequences=True))\n",
    "        \n",
    "        \n",
    "        ####################################################################################################\n",
    "        # Instantiating a Dense layer that connects the output to the vocab_size  and adding layer to model#\n",
    "        ####################################################################################################\n",
    "        self._dense = tf.keras.layers.Dense(self.vocab_size)\n",
    "        self._model.add(self._dense)\n",
    " \n",
    "        \n",
    "        ####################################################################################################\n",
    "        # Adding softmax activation layer and deriving probability to each class and adding layer to model #\n",
    "        ####################################################################################################\n",
    "        self._activation = tf.keras.layers.Activation('softmax')\n",
    "        self._model.add(self._activation)\n",
    "\n",
    "        ##########################################################\n",
    "        # Instantiating the stochastic gradient decent optimizer #\n",
    "        ########################################################## \n",
    "        self._optimizer = tf.keras.optimizers.SGD(lr=self._lr, clipnorm=max_grad_norm)\n",
    "        \n",
    "        \n",
    "        ##############################################################################\n",
    "        # Compiling and summarizing the model stacked using the keras sequential API #\n",
    "        ##############################################################################\n",
    "        self._model.compile(loss=self.crossentropy, optimizer=self._optimizer)\n",
    "        self._model.summary()\n",
    "\n",
    "\n",
    "    def crossentropy(self,y_true, y_pred):\n",
    "        return tf.keras.losses.sparse_categorical_crossentropy(y_true, y_pred)\n",
    "\n",
    "    def train_batch(self,_input_data,_targets):\n",
    "        #################################################\n",
    "        # Creating the Training Operation for our Model #\n",
    "        #################################################\n",
    "        # Create a variable for the learning rate\n",
    "        self._lr = tf.Variable(0.0, trainable=False)\n",
    "        # Get all TensorFlow variables marked as \"trainable\" (i.e. all of them except _lr, which we just created)\n",
    "        tvars = self._model.trainable_variables\n",
    "        # Define the gradient clipping threshold\n",
    "        with tf.GradientTape() as tape:\n",
    "            # Forward pass.\n",
    "            output_words_prob = self._model(_input_data)\n",
    "            # Loss value for this batch.\n",
    "            loss  = self.crossentropy(_targets, output_words_prob)\n",
    "            # average across batch and reduce sum\n",
    "            cost = tf.reduce_sum(loss/ self.batch_size)\n",
    "        # Get gradients of loss wrt the trainable variables.\n",
    "        grad_t_list = tape.gradient(cost, tvars)\n",
    "        # Define the gradient clipping threshold\n",
    "        grads, _ = tf.clip_by_global_norm(grad_t_list, max_grad_norm)\n",
    "        # Create the training TensorFlow Operation through our optimizer\n",
    "        train_op = self._optimizer.apply_gradients(zip(grads, tvars))\n",
    "        return cost\n",
    "        \n",
    "    def test_batch(self,_input_data,_targets):\n",
    "        #################################################\n",
    "        # Creating the Testing Operation for our Model #\n",
    "        #################################################\n",
    "        output_words_prob = self._model(_input_data)\n",
    "        loss  = self.crossentropy(_targets, output_words_prob)\n",
    "        # average across batch and reduce sum\n",
    "        cost = tf.reduce_sum(loss/ self.batch_size)\n",
    "\n",
    "        return cost\n",
    "    @classmethod\n",
    "    def instance(cls) : \n",
    "        return PTBModel()"
   ]
  },
  {
   "cell_type": "markdown",
   "metadata": {
    "button": false,
    "deletable": true,
    "new_sheet": false,
    "run_control": {
     "read_only": false
    }
   },
   "source": [
    "With that, the actual structure of our Recurrent Neural Network with Long Short-Term Memory is finished. What remains for us to do is to actually create the methods to run through time -- that is, the <code>run_epoch</code> method to be run at each epoch and a <code>main</code> script which ties all of this together.\n",
    "\n",
    "What our <code>run_epoch</code> method should do is take our input data and feed it to the relevant operations. This will return at the very least the current result for the cost function.\n"
   ]
  },
  {
   "cell_type": "code",
   "execution_count": 52,
   "metadata": {
    "button": false,
    "deletable": true,
    "new_sheet": false,
    "run_control": {
     "read_only": false
    }
   },
   "outputs": [],
   "source": [
    "\n",
    "########################################################################################################################\n",
    "# run_one_epoch takes as parameters  the model instance, the data to be fed, training or testing mode and verbose info #\n",
    "########################################################################################################################\n",
    "def run_one_epoch(m, data,is_training=True,verbose=False):\n",
    "\n",
    "    #Define the epoch size based on the length of the data, batch size and the number of steps\n",
    "    epoch_size = ((len(data) // m.batch_size) - 1) // m.num_steps\n",
    "    start_time = time.time()\n",
    "    costs = 0.\n",
    "    iters = 0\n",
    "    \n",
    "    m._model.reset_states()\n",
    "    \n",
    "    #For each step and data point\n",
    "    for step, (x, y) in enumerate(reader.ptb_iterator(data, m.batch_size, m.num_steps)):\n",
    "        \n",
    "        #Evaluate and return cost, state by running cost, final_state and the function passed as parameter\n",
    "        #y = tf.keras.utils.to_categorical(y, num_classes=vocab_size)\n",
    "        if is_training : \n",
    "            loss=  m.train_batch(x, y)\n",
    "        else :\n",
    "            loss = m.test_batch(x, y)\n",
    "                                   \n",
    "\n",
    "        #Add returned cost to costs (which keeps track of the total costs for this epoch)\n",
    "        costs += loss\n",
    "        \n",
    "        #Add number of steps to iteration counter\n",
    "        iters += m.num_steps\n",
    "\n",
    "        if verbose and step % (epoch_size // 10) == 10:\n",
    "            print(\"Itr %d of %d, perplexity: %.3f speed: %.0f wps\" % (step , epoch_size, np.exp(costs / iters), iters * m.batch_size / (time.time() - start_time)))\n",
    "        \n",
    "\n",
    "\n",
    "    # Returns the Perplexity rating for us to keep track of how the model is evolving\n",
    "    return np.exp(costs / iters)\n"
   ]
  },
  {
   "cell_type": "markdown",
   "metadata": {
    "button": false,
    "deletable": true,
    "new_sheet": false,
    "run_control": {
     "read_only": false
    }
   },
   "source": [
    "Now, we create the <code>main</code> method to tie everything together. The code here reads the data from the directory, using the <code>reader</code> helper module, and then trains and evaluates the model on both a testing and a validating subset of data.\n"
   ]
  },
  {
   "cell_type": "code",
   "execution_count": 53,
   "metadata": {
    "button": false,
    "deletable": true,
    "new_sheet": false,
    "run_control": {
     "read_only": false
    },
    "tags": []
   },
   "outputs": [],
   "source": [
    "# Reads the data and separates it into training data, validation data and testing data\n",
    "raw_data = reader.ptb_raw_data(data_dir)\n",
    "train_data, valid_data, test_data, _, _ = raw_data"
   ]
  },
  {
   "cell_type": "code",
   "execution_count": null,
   "metadata": {
    "tags": []
   },
   "outputs": [
    {
     "name": "stdout",
     "output_type": "stream",
     "text": [
      "Model: \"sequential_1\"\n",
      "_________________________________________________________________\n",
      "Layer (type)                 Output Shape              Param #   \n",
      "=================================================================\n",
      "embedding_vocab (Embedding)  (30, 20, 200)             2000000   \n",
      "_________________________________________________________________\n",
      "rnn_1 (RNN)                  (30, 20, 128)             671088    \n",
      "_________________________________________________________________\n",
      "dense_1 (Dense)              (30, 20, 10000)           1290000   \n",
      "_________________________________________________________________\n",
      "activation_1 (Activation)    (30, 20, 10000)           0         \n",
      "=================================================================\n",
      "Total params: 3,961,088\n",
      "Trainable params: 3,955,088\n",
      "Non-trainable params: 6,000\n",
      "_________________________________________________________________\n",
      "Epoch 1 : Learning rate: 1.000\n",
      "Itr 10 of 1549, perplexity: 4459.440 speed: 463 wps\n"
     ]
    }
   ],
   "source": [
    "# Instantiates the PTBModel class\n",
    "m=PTBModel.instance()   \n",
    "K = tf.keras.backend \n",
    "for i in range(max_epoch):\n",
    "    # Define the decay for this epoch\n",
    "    lr_decay = decay ** max(i - max_epoch_decay_lr, 0.0)\n",
    "    dcr = learning_rate * lr_decay\n",
    "    m._lr = dcr\n",
    "    K.set_value(m._model.optimizer.learning_rate,m._lr)\n",
    "    print(\"Epoch %d : Learning rate: %.3f\" % (i + 1, m._model.optimizer.learning_rate))\n",
    "    # Run the loop for this epoch in the training mode\n",
    "    train_perplexity = run_one_epoch(m, train_data,is_training=True,verbose=True)\n",
    "    print(\"Epoch %d : Train Perplexity: %.3f\" % (i + 1, train_perplexity))\n",
    "        \n",
    "    # Run the loop for this epoch in the validation mode\n",
    "    valid_perplexity = run_one_epoch(m, valid_data,is_training=False,verbose=False)\n",
    "    print(\"Epoch %d : Valid Perplexity: %.3f\" % (i + 1, valid_perplexity))\n",
    "    \n",
    "# Run the loop in the testing mode to see how effective was our training\n",
    "test_perplexity = run_one_epoch(m, test_data,is_training=False,verbose=False)\n",
    "print(\"Test Perplexity: %.3f\" % test_perplexity)\n",
    "\n"
   ]
  },
  {
   "cell_type": "markdown",
   "metadata": {
    "button": false,
    "deletable": true,
    "new_sheet": false,
    "run_control": {
     "read_only": false
    }
   },
   "source": [
    "As you can see, the model's perplexity rating drops very quickly after a few iterations. As was elaborated before, <b>lower Perplexity means that the model is more certain about its prediction</b>. As such, we can be sure that this model is performing well!\n"
   ]
  },
  {
   "cell_type": "markdown",
   "metadata": {
    "button": false,
    "deletable": true,
    "new_sheet": false,
    "run_control": {
     "read_only": false
    }
   },
   "source": [
    "* * *\n"
   ]
  },
  {
   "cell_type": "markdown",
   "metadata": {
    "button": false,
    "deletable": true,
    "new_sheet": false,
    "run_control": {
     "read_only": false
    }
   },
   "source": [
    "This is the end of the <b>Applying Recurrent Neural Networks to Text Processing</b> notebook. Hopefully you now have a better understanding of Recurrent Neural Networks and how to implement one utilizing TensorFlow. Thank you for reading this notebook, and good luck on your studies.\n"
   ]
  },
  {
   "cell_type": "markdown",
   "metadata": {
    "button": false,
    "deletable": true,
    "new_sheet": false,
    "run_control": {
     "read_only": false
    }
   },
   "source": [
    "## Want to learn more?\n",
    "\n",
    "Running deep learning programs usually needs a high performance platform. **PowerAI** speeds up deep learning and AI. Built on IBM’s Power Systems, **PowerAI** is a scalable software platform that accelerates deep learning and AI with blazing performance for individual users or enterprises. The **PowerAI** platform supports popular machine learning libraries and dependencies including TensorFlow, Caffe, Torch, and Theano. You can use [PowerAI on IMB Cloud](https://cocl.us/ML0120EN_PAI).\n",
    "\n",
    "Also, you can use **Watson Studio** to run these notebooks faster with bigger datasets.**Watson Studio** is IBM’s leading cloud solution for data scientists, built by data scientists. With Jupyter notebooks, RStudio, Apache Spark and popular libraries pre-packaged in the cloud, **Watson Studio** enables data scientists to collaborate on their projects without having to install anything. Join the fast-growing community of **Watson Studio** users today with a free account at [Watson Studio](https://cocl.us/ML0120EN_DSX).This is the end of this lesson. Thank you for reading this notebook, and good luck on your studies.\n"
   ]
  },
  {
   "cell_type": "markdown",
   "metadata": {
    "button": false,
    "deletable": true,
    "new_sheet": false,
    "run_control": {
     "read_only": false
    }
   },
   "source": [
    "### Thanks for completing this lesson!\n",
    "\n",
    "Notebook created by <a href=\"https://br.linkedin.com/in/walter-gomes-de-amorim-junior-624726121\">Walter Gomes de Amorim Junior</a>, <a href = \"https://linkedin.com/in/saeedaghabozorgi\"> Saeed Aghabozorgi </a></h4>\n",
    "\n",
    "Updated to TF 2.X by  <a href=\"https://www.linkedin.com/in/samaya-madhavan\"> Samaya Madhavan </a>\n"
   ]
  },
  {
   "cell_type": "markdown",
   "metadata": {
    "button": false,
    "deletable": true,
    "new_sheet": false,
    "run_control": {
     "read_only": false
    }
   },
   "source": [
    "<hr>\n",
    "\n",
    "Copyright © 2018 [Cognitive Class](https://cocl.us/DX0108EN_CC). This notebook and its source code are released under the terms of the [MIT License](https://bigdatauniversity.com/mit-license?cm_mmc=Email_Newsletter-_-Developer_Ed%2BTech-_-WW_WW-_-SkillsNetwork-Courses-IBMDeveloperSkillsNetwork-DL0120EN-SkillsNetwork-20629446&cm_mmca1=000026UJ&cm_mmca2=10006555&cm_mmca3=M12345678&cvosrc=email.Newsletter.M12345678&cvo_campaign=000026UJ&cm_mmc=Email_Newsletter-_-Developer_Ed%2BTech-_-WW_WW-_-SkillsNetwork-Courses-IBMDeveloperSkillsNetwork-DL0120EN-SkillsNetwork-20629446&cm_mmca1=000026UJ&cm_mmca2=10006555&cm_mmca3=M12345678&cvosrc=email.Newsletter.M12345678&cvo_campaign=000026UJ).\n"
   ]
  }
 ],
 "metadata": {
  "anaconda-cloud": {},
  "kernelspec": {
   "display_name": "Python",
   "language": "python",
   "name": "conda-env-python-py"
  },
  "language_info": {
   "codemirror_mode": {
    "name": "ipython",
    "version": 3
   },
   "file_extension": ".py",
   "mimetype": "text/x-python",
   "name": "python",
   "nbconvert_exporter": "python",
   "pygments_lexer": "ipython3",
   "version": "3.6.13"
  },
  "widgets": {
   "state": {},
   "version": "1.1.2"
  }
 },
 "nbformat": 4,
 "nbformat_minor": 4
}
